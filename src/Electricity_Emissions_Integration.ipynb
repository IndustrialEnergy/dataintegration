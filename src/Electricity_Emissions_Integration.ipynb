{
 "cells": [
  {
   "cell_type": "markdown",
   "id": "bf3c7dbe-759e-4e51-9bd7-5eb301797e46",
   "metadata": {},
   "source": [
    "### Import Libraries"
   ]
  },
  {
   "cell_type": "code",
   "execution_count": 18,
   "id": "98acd9ab-f461-4efa-a711-f641528a55e4",
   "metadata": {
    "tags": []
   },
   "outputs": [],
   "source": [
    "import pandas as pd\n",
    "from pathlib import Path\n",
    "import seaborn as sns\n",
    "import matplotlib.pyplot as plt\n",
    "import numpy as np\n",
    "import janitor\n",
    "from janitor import clean_names"
   ]
  },
  {
   "cell_type": "markdown",
   "id": "ace7a157-d563-43be-8d51-557e0c99ee3d",
   "metadata": {},
   "source": [
    "### Import Data"
   ]
  },
  {
   "cell_type": "code",
   "execution_count": 19,
   "id": "fba834c9-8a2d-4eb3-8e00-cb78b2a23298",
   "metadata": {
    "tags": []
   },
   "outputs": [],
   "source": [
    "# Emissions\n",
    "emissions_tidy_df = pd.read_csv(\"../data/intermediate_data/emissions_tidy.csv\")\n",
    "\n",
    "# Generation\n",
    "generation_df = pd.read_csv(\"../data/intermediate_data/generation.csv\")\n"
   ]
  },
  {
   "cell_type": "markdown",
   "id": "fe382f53-eda3-4754-a9b2-37841bd71f2f",
   "metadata": {},
   "source": [
    "### Integrate Generation data into the Emissions dataframe"
   ]
  },
  {
   "cell_type": "code",
   "execution_count": 20,
   "id": "4a5d1da3-c160-4c73-bde2-24ac33f1a58b",
   "metadata": {
    "tags": []
   },
   "outputs": [
    {
     "name": "stdout",
     "output_type": "stream",
     "text": [
      "['year', 'state', 'type_of_producer', 'energy_source', 'generation_megawatthours', 'units']\n"
     ]
    }
   ],
   "source": [
    "print(list(generation_df.columns))"
   ]
  },
  {
   "cell_type": "code",
   "execution_count": 21,
   "id": "2eb77aa9-3b41-44cd-ab22-2993303ec081",
   "metadata": {
    "tags": []
   },
   "outputs": [],
   "source": [
    "# Merge the generation dataframe with the emissions dataframe on the \"state\" column\n",
    "# Add new column for emissions by Tonnes/MWh =  kg/kWh\n",
    "# Only include producer type Total Electric Power Industry and energy source All Sources/Total\n",
    "# Merge generation and emissions dataframes\n",
    "\n",
    "# Filter\n",
    "emissions_filtered = emissions_tidy_df[\n",
    "    (emissions_tidy_df['energy_source'] == 'All Sources') &\n",
    "    (emissions_tidy_df['producer_type'] == 'Total Electric Power Industry')]\n",
    "generation_filtered = generation_df[\n",
    "    (generation_df['energy_source'] == 'Total') &\n",
    "    (generation_df['type_of_producer'] == 'Total Electric Power Industry')]\n",
    "\n",
    "# Merge\n",
    "emissions_generation_df = generation_filtered.merge(\n",
    "    emissions_filtered[['state', 'year', 'producer_type', 'energy_source', 'emission_type', 'amount']].rename(columns={\n",
    "        'producer_type': 'type_of_producer'  # Rename to match the generation dataframe\n",
    "    }),\n",
    "    on=['state', 'year'],\n",
    "    how='left'  # Left join to keep all rows from generation data\n",
    ")\n",
    "\n",
    "# Calculate emissions per generation and add the 'kg/kWh' unit\n",
    "emissions_generation_df['emission_factor'] = emissions_generation_df['amount'] / emissions_generation_df['generation_megawatthours']\n",
    "emissions_generation_df['unit'] = 'kg/kWh'"
   ]
  },
  {
   "cell_type": "code",
   "execution_count": 22,
   "id": "7f971553-c64e-4f33-a564-1f522fc4a018",
   "metadata": {
    "tags": []
   },
   "outputs": [
    {
     "data": {
      "text/html": [
       "<div>\n",
       "<style scoped>\n",
       "    .dataframe tbody tr th:only-of-type {\n",
       "        vertical-align: middle;\n",
       "    }\n",
       "\n",
       "    .dataframe tbody tr th {\n",
       "        vertical-align: top;\n",
       "    }\n",
       "\n",
       "    .dataframe thead th {\n",
       "        text-align: right;\n",
       "    }\n",
       "</style>\n",
       "<table border=\"1\" class=\"dataframe\">\n",
       "  <thead>\n",
       "    <tr style=\"text-align: right;\">\n",
       "      <th></th>\n",
       "      <th>state</th>\n",
       "      <th>year</th>\n",
       "      <th>generation_megawatthours</th>\n",
       "      <th>units</th>\n",
       "      <th>emission_type</th>\n",
       "      <th>amount</th>\n",
       "      <th>emission_factor</th>\n",
       "      <th>unit</th>\n",
       "    </tr>\n",
       "  </thead>\n",
       "  <tbody>\n",
       "    <tr>\n",
       "      <th>0</th>\n",
       "      <td>AK</td>\n",
       "      <td>1990</td>\n",
       "      <td>5599506.0</td>\n",
       "      <td>MWh</td>\n",
       "      <td>CO2</td>\n",
       "      <td>4208809.0</td>\n",
       "      <td>0.751639</td>\n",
       "      <td>kg/kWh</td>\n",
       "    </tr>\n",
       "    <tr>\n",
       "      <th>1</th>\n",
       "      <td>AK</td>\n",
       "      <td>1990</td>\n",
       "      <td>5599506.0</td>\n",
       "      <td>MWh</td>\n",
       "      <td>SO2</td>\n",
       "      <td>18741.0</td>\n",
       "      <td>0.003347</td>\n",
       "      <td>kg/kWh</td>\n",
       "    </tr>\n",
       "    <tr>\n",
       "      <th>2</th>\n",
       "      <td>AK</td>\n",
       "      <td>1990</td>\n",
       "      <td>5599506.0</td>\n",
       "      <td>MWh</td>\n",
       "      <td>NOx</td>\n",
       "      <td>12562.0</td>\n",
       "      <td>0.002243</td>\n",
       "      <td>kg/kWh</td>\n",
       "    </tr>\n",
       "    <tr>\n",
       "      <th>3</th>\n",
       "      <td>AL</td>\n",
       "      <td>1990</td>\n",
       "      <td>79652133.0</td>\n",
       "      <td>MWh</td>\n",
       "      <td>CO2</td>\n",
       "      <td>52936063.0</td>\n",
       "      <td>0.664591</td>\n",
       "      <td>kg/kWh</td>\n",
       "    </tr>\n",
       "    <tr>\n",
       "      <th>4</th>\n",
       "      <td>AL</td>\n",
       "      <td>1990</td>\n",
       "      <td>79652133.0</td>\n",
       "      <td>MWh</td>\n",
       "      <td>SO2</td>\n",
       "      <td>505530.0</td>\n",
       "      <td>0.006347</td>\n",
       "      <td>kg/kWh</td>\n",
       "    </tr>\n",
       "    <tr>\n",
       "      <th>...</th>\n",
       "      <td>...</td>\n",
       "      <td>...</td>\n",
       "      <td>...</td>\n",
       "      <td>...</td>\n",
       "      <td>...</td>\n",
       "      <td>...</td>\n",
       "      <td>...</td>\n",
       "      <td>...</td>\n",
       "    </tr>\n",
       "    <tr>\n",
       "      <th>5275</th>\n",
       "      <td>WV</td>\n",
       "      <td>2023</td>\n",
       "      <td>52286784.0</td>\n",
       "      <td>MWh</td>\n",
       "      <td>SO2</td>\n",
       "      <td>35530.0</td>\n",
       "      <td>0.000680</td>\n",
       "      <td>kg/kWh</td>\n",
       "    </tr>\n",
       "    <tr>\n",
       "      <th>5276</th>\n",
       "      <td>WV</td>\n",
       "      <td>2023</td>\n",
       "      <td>52286784.0</td>\n",
       "      <td>MWh</td>\n",
       "      <td>NOx</td>\n",
       "      <td>25505.0</td>\n",
       "      <td>0.000488</td>\n",
       "      <td>kg/kWh</td>\n",
       "    </tr>\n",
       "    <tr>\n",
       "      <th>5277</th>\n",
       "      <td>WY</td>\n",
       "      <td>2023</td>\n",
       "      <td>43181420.0</td>\n",
       "      <td>MWh</td>\n",
       "      <td>CO2</td>\n",
       "      <td>36580219.0</td>\n",
       "      <td>0.847129</td>\n",
       "      <td>kg/kWh</td>\n",
       "    </tr>\n",
       "    <tr>\n",
       "      <th>5278</th>\n",
       "      <td>WY</td>\n",
       "      <td>2023</td>\n",
       "      <td>43181420.0</td>\n",
       "      <td>MWh</td>\n",
       "      <td>SO2</td>\n",
       "      <td>21963.0</td>\n",
       "      <td>0.000509</td>\n",
       "      <td>kg/kWh</td>\n",
       "    </tr>\n",
       "    <tr>\n",
       "      <th>5279</th>\n",
       "      <td>WY</td>\n",
       "      <td>2023</td>\n",
       "      <td>43181420.0</td>\n",
       "      <td>MWh</td>\n",
       "      <td>NOx</td>\n",
       "      <td>28285.0</td>\n",
       "      <td>0.000655</td>\n",
       "      <td>kg/kWh</td>\n",
       "    </tr>\n",
       "  </tbody>\n",
       "</table>\n",
       "<p>5280 rows × 8 columns</p>\n",
       "</div>"
      ],
      "text/plain": [
       "     state  year  generation_megawatthours units emission_type      amount  \\\n",
       "0       AK  1990                 5599506.0   MWh           CO2   4208809.0   \n",
       "1       AK  1990                 5599506.0   MWh           SO2     18741.0   \n",
       "2       AK  1990                 5599506.0   MWh           NOx     12562.0   \n",
       "3       AL  1990                79652133.0   MWh           CO2  52936063.0   \n",
       "4       AL  1990                79652133.0   MWh           SO2    505530.0   \n",
       "...    ...   ...                       ...   ...           ...         ...   \n",
       "5275    WV  2023                52286784.0   MWh           SO2     35530.0   \n",
       "5276    WV  2023                52286784.0   MWh           NOx     25505.0   \n",
       "5277    WY  2023                43181420.0   MWh           CO2  36580219.0   \n",
       "5278    WY  2023                43181420.0   MWh           SO2     21963.0   \n",
       "5279    WY  2023                43181420.0   MWh           NOx     28285.0   \n",
       "\n",
       "      emission_factor    unit  \n",
       "0            0.751639  kg/kWh  \n",
       "1            0.003347  kg/kWh  \n",
       "2            0.002243  kg/kWh  \n",
       "3            0.664591  kg/kWh  \n",
       "4            0.006347  kg/kWh  \n",
       "...               ...     ...  \n",
       "5275         0.000680  kg/kWh  \n",
       "5276         0.000488  kg/kWh  \n",
       "5277         0.847129  kg/kWh  \n",
       "5278         0.000509  kg/kWh  \n",
       "5279         0.000655  kg/kWh  \n",
       "\n",
       "[5280 rows x 8 columns]"
      ]
     },
     "execution_count": 22,
     "metadata": {},
     "output_type": "execute_result"
    }
   ],
   "source": [
    "# reoder columns in recc_ppi_df\n",
    "emissions_generation_columns_order = ['state', 'year', 'generation_megawatthours', 'units', 'emission_type', 'amount', 'emission_factor', 'unit' \n",
    "                          ]\n",
    "emissions_generation_df = emissions_generation_df[emissions_generation_columns_order]\n",
    "emissions_generation_df"
   ]
  },
  {
   "cell_type": "code",
   "execution_count": null,
   "id": "b9dbe102-8f2f-4dde-9200-b6c9ab53a3f4",
   "metadata": {},
   "outputs": [],
   "source": []
  }
 ],
 "metadata": {
  "kernelspec": {
   "display_name": "Anaconda 3 (EDS220)",
   "language": "python",
   "name": "eds220-env"
  },
  "language_info": {
   "codemirror_mode": {
    "name": "ipython",
    "version": 3
   },
   "file_extension": ".py",
   "mimetype": "text/x-python",
   "name": "python",
   "nbconvert_exporter": "python",
   "pygments_lexer": "ipython3",
   "version": "3.11.4"
  }
 },
 "nbformat": 4,
 "nbformat_minor": 5
}
