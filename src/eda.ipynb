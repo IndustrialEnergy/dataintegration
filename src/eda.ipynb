{
 "cells": [
  {
   "cell_type": "code",
   "execution_count": 1,
   "metadata": {},
   "outputs": [],
   "source": [
    "import pandas as pd\n",
    "from pathlib import Path\n",
    "import seaborn as sns\n",
    "import matplotlib.pyplot as plt"
   ]
  },
  {
   "cell_type": "code",
   "execution_count": 2,
   "metadata": {},
   "outputs": [
    {
     "name": "stdout",
     "output_type": "stream",
     "text": [
      "/Users/ejnewby/MEDS/capstone/industrialenergy_datainterface/src/data_raw/IAC_Database_20250112.xls\n"
     ]
    },
    {
     "ename": "FileNotFoundError",
     "evalue": "[Errno 2] No such file or directory: 'data_raw/IAC_Database_20250112.xls'",
     "output_type": "error",
     "traceback": [
      "\u001b[0;31m---------------------------------------------------------------------------\u001b[0m",
      "\u001b[0;31mFileNotFoundError\u001b[0m                         Traceback (most recent call last)",
      "\u001b[0;32m/tmp/ipykernel_319740/2605357699.py\u001b[0m in \u001b[0;36m<module>\u001b[0;34m\u001b[0m\n\u001b[1;32m      8\u001b[0m \u001b[0;34m\u001b[0m\u001b[0m\n\u001b[1;32m      9\u001b[0m \u001b[0;31m# import IAC database excell\u001b[0m\u001b[0;34m\u001b[0m\u001b[0;34m\u001b[0m\u001b[0;34m\u001b[0m\u001b[0m\n\u001b[0;32m---> 10\u001b[0;31m \u001b[0mdf\u001b[0m \u001b[0;34m=\u001b[0m \u001b[0mpd\u001b[0m\u001b[0;34m.\u001b[0m\u001b[0mread_excel\u001b[0m\u001b[0;34m(\u001b[0m\u001b[0mrelative_path\u001b[0m\u001b[0;34m,\u001b[0m \u001b[0msheet_name\u001b[0m\u001b[0;34m=\u001b[0m\u001b[0;34m'RECC1'\u001b[0m\u001b[0;34m)\u001b[0m\u001b[0;34m\u001b[0m\u001b[0;34m\u001b[0m\u001b[0m\n\u001b[0m",
      "\u001b[0;32m/opt/python/3.7.13/lib/python3.7/site-packages/pandas/util/_decorators.py\u001b[0m in \u001b[0;36mwrapper\u001b[0;34m(*args, **kwargs)\u001b[0m\n\u001b[1;32m    309\u001b[0m                     \u001b[0mstacklevel\u001b[0m\u001b[0;34m=\u001b[0m\u001b[0mstacklevel\u001b[0m\u001b[0;34m,\u001b[0m\u001b[0;34m\u001b[0m\u001b[0;34m\u001b[0m\u001b[0m\n\u001b[1;32m    310\u001b[0m                 )\n\u001b[0;32m--> 311\u001b[0;31m             \u001b[0;32mreturn\u001b[0m \u001b[0mfunc\u001b[0m\u001b[0;34m(\u001b[0m\u001b[0;34m*\u001b[0m\u001b[0margs\u001b[0m\u001b[0;34m,\u001b[0m \u001b[0;34m**\u001b[0m\u001b[0mkwargs\u001b[0m\u001b[0;34m)\u001b[0m\u001b[0;34m\u001b[0m\u001b[0;34m\u001b[0m\u001b[0m\n\u001b[0m\u001b[1;32m    312\u001b[0m \u001b[0;34m\u001b[0m\u001b[0m\n\u001b[1;32m    313\u001b[0m         \u001b[0;32mreturn\u001b[0m \u001b[0mwrapper\u001b[0m\u001b[0;34m\u001b[0m\u001b[0;34m\u001b[0m\u001b[0m\n",
      "\u001b[0;32m/opt/python/3.7.13/lib/python3.7/site-packages/pandas/io/excel/_base.py\u001b[0m in \u001b[0;36mread_excel\u001b[0;34m(io, sheet_name, header, names, index_col, usecols, squeeze, dtype, engine, converters, true_values, false_values, skiprows, nrows, na_values, keep_default_na, na_filter, verbose, parse_dates, date_parser, thousands, comment, skipfooter, convert_float, mangle_dupe_cols, storage_options)\u001b[0m\n\u001b[1;32m    362\u001b[0m     \u001b[0;32mif\u001b[0m \u001b[0;32mnot\u001b[0m \u001b[0misinstance\u001b[0m\u001b[0;34m(\u001b[0m\u001b[0mio\u001b[0m\u001b[0;34m,\u001b[0m \u001b[0mExcelFile\u001b[0m\u001b[0;34m)\u001b[0m\u001b[0;34m:\u001b[0m\u001b[0;34m\u001b[0m\u001b[0;34m\u001b[0m\u001b[0m\n\u001b[1;32m    363\u001b[0m         \u001b[0mshould_close\u001b[0m \u001b[0;34m=\u001b[0m \u001b[0;32mTrue\u001b[0m\u001b[0;34m\u001b[0m\u001b[0;34m\u001b[0m\u001b[0m\n\u001b[0;32m--> 364\u001b[0;31m         \u001b[0mio\u001b[0m \u001b[0;34m=\u001b[0m \u001b[0mExcelFile\u001b[0m\u001b[0;34m(\u001b[0m\u001b[0mio\u001b[0m\u001b[0;34m,\u001b[0m \u001b[0mstorage_options\u001b[0m\u001b[0;34m=\u001b[0m\u001b[0mstorage_options\u001b[0m\u001b[0;34m,\u001b[0m \u001b[0mengine\u001b[0m\u001b[0;34m=\u001b[0m\u001b[0mengine\u001b[0m\u001b[0;34m)\u001b[0m\u001b[0;34m\u001b[0m\u001b[0;34m\u001b[0m\u001b[0m\n\u001b[0m\u001b[1;32m    365\u001b[0m     \u001b[0;32melif\u001b[0m \u001b[0mengine\u001b[0m \u001b[0;32mand\u001b[0m \u001b[0mengine\u001b[0m \u001b[0;34m!=\u001b[0m \u001b[0mio\u001b[0m\u001b[0;34m.\u001b[0m\u001b[0mengine\u001b[0m\u001b[0;34m:\u001b[0m\u001b[0;34m\u001b[0m\u001b[0;34m\u001b[0m\u001b[0m\n\u001b[1;32m    366\u001b[0m         raise ValueError(\n",
      "\u001b[0;32m/opt/python/3.7.13/lib/python3.7/site-packages/pandas/io/excel/_base.py\u001b[0m in \u001b[0;36m__init__\u001b[0;34m(self, path_or_buffer, engine, storage_options)\u001b[0m\n\u001b[1;32m   1190\u001b[0m             \u001b[0;32melse\u001b[0m\u001b[0;34m:\u001b[0m\u001b[0;34m\u001b[0m\u001b[0;34m\u001b[0m\u001b[0m\n\u001b[1;32m   1191\u001b[0m                 ext = inspect_excel_format(\n\u001b[0;32m-> 1192\u001b[0;31m                     \u001b[0mcontent_or_path\u001b[0m\u001b[0;34m=\u001b[0m\u001b[0mpath_or_buffer\u001b[0m\u001b[0;34m,\u001b[0m \u001b[0mstorage_options\u001b[0m\u001b[0;34m=\u001b[0m\u001b[0mstorage_options\u001b[0m\u001b[0;34m\u001b[0m\u001b[0;34m\u001b[0m\u001b[0m\n\u001b[0m\u001b[1;32m   1193\u001b[0m                 )\n\u001b[1;32m   1194\u001b[0m                 \u001b[0;32mif\u001b[0m \u001b[0mext\u001b[0m \u001b[0;32mis\u001b[0m \u001b[0;32mNone\u001b[0m\u001b[0;34m:\u001b[0m\u001b[0;34m\u001b[0m\u001b[0;34m\u001b[0m\u001b[0m\n",
      "\u001b[0;32m/opt/python/3.7.13/lib/python3.7/site-packages/pandas/io/excel/_base.py\u001b[0m in \u001b[0;36minspect_excel_format\u001b[0;34m(content_or_path, storage_options)\u001b[0m\n\u001b[1;32m   1069\u001b[0m \u001b[0;34m\u001b[0m\u001b[0m\n\u001b[1;32m   1070\u001b[0m     with get_handle(\n\u001b[0;32m-> 1071\u001b[0;31m         \u001b[0mcontent_or_path\u001b[0m\u001b[0;34m,\u001b[0m \u001b[0;34m\"rb\"\u001b[0m\u001b[0;34m,\u001b[0m \u001b[0mstorage_options\u001b[0m\u001b[0;34m=\u001b[0m\u001b[0mstorage_options\u001b[0m\u001b[0;34m,\u001b[0m \u001b[0mis_text\u001b[0m\u001b[0;34m=\u001b[0m\u001b[0;32mFalse\u001b[0m\u001b[0;34m\u001b[0m\u001b[0;34m\u001b[0m\u001b[0m\n\u001b[0m\u001b[1;32m   1072\u001b[0m     ) as handle:\n\u001b[1;32m   1073\u001b[0m         \u001b[0mstream\u001b[0m \u001b[0;34m=\u001b[0m \u001b[0mhandle\u001b[0m\u001b[0;34m.\u001b[0m\u001b[0mhandle\u001b[0m\u001b[0;34m\u001b[0m\u001b[0;34m\u001b[0m\u001b[0m\n",
      "\u001b[0;32m/opt/python/3.7.13/lib/python3.7/site-packages/pandas/io/common.py\u001b[0m in \u001b[0;36mget_handle\u001b[0;34m(path_or_buf, mode, encoding, compression, memory_map, is_text, errors, storage_options)\u001b[0m\n\u001b[1;32m    709\u001b[0m         \u001b[0;32melse\u001b[0m\u001b[0;34m:\u001b[0m\u001b[0;34m\u001b[0m\u001b[0;34m\u001b[0m\u001b[0m\n\u001b[1;32m    710\u001b[0m             \u001b[0;31m# Binary mode\u001b[0m\u001b[0;34m\u001b[0m\u001b[0;34m\u001b[0m\u001b[0;34m\u001b[0m\u001b[0m\n\u001b[0;32m--> 711\u001b[0;31m             \u001b[0mhandle\u001b[0m \u001b[0;34m=\u001b[0m \u001b[0mopen\u001b[0m\u001b[0;34m(\u001b[0m\u001b[0mhandle\u001b[0m\u001b[0;34m,\u001b[0m \u001b[0mioargs\u001b[0m\u001b[0;34m.\u001b[0m\u001b[0mmode\u001b[0m\u001b[0;34m)\u001b[0m\u001b[0;34m\u001b[0m\u001b[0;34m\u001b[0m\u001b[0m\n\u001b[0m\u001b[1;32m    712\u001b[0m         \u001b[0mhandles\u001b[0m\u001b[0;34m.\u001b[0m\u001b[0mappend\u001b[0m\u001b[0;34m(\u001b[0m\u001b[0mhandle\u001b[0m\u001b[0;34m)\u001b[0m\u001b[0;34m\u001b[0m\u001b[0;34m\u001b[0m\u001b[0m\n\u001b[1;32m    713\u001b[0m \u001b[0;34m\u001b[0m\u001b[0m\n",
      "\u001b[0;31mFileNotFoundError\u001b[0m: [Errno 2] No such file or directory: 'data_raw/IAC_Database_20250112.xls'"
     ]
    }
   ],
   "source": [
    "# import IAC database, sheet \"RECC1\"\n",
    "# define relative path\n",
    "relative_path = Path('data_raw/IAC_Database_20250112.xls')\n",
    "\n",
    "# get absolute path\n",
    "absolute_path = relative_path.resolve()\n",
    "print(absolute_path)\n",
    "\n",
    "# import IAC database excell\n",
    "df = pd.read_excel(relative_path, sheet_name='RECC1')"
   ]
  },
  {
   "cell_type": "code",
   "execution_count": null,
   "metadata": {},
   "outputs": [],
   "source": [
    "df"
   ]
  },
  {
   "cell_type": "code",
   "execution_count": null,
   "metadata": {},
   "outputs": [],
   "source": [
    "# read all RECC tabs\n",
    "recc_2 = pd.read_excel(relative_path, sheet_name='RECC2')\n",
    "recc_3 = pd.read_excel(relative_path, sheet_name='RECC3')\n",
    "recc_4 = pd.read_excel(relative_path, sheet_name='RECC4')\n",
    "recc_5 = pd.read_excel(relative_path, sheet_name='RECC5')\n",
    "recc_6 = pd.read_excel(relative_path, sheet_name='RECC6')\n",
    "\n",
    "# append additional tabs to the existing DataFrame\n",
    "df = pd.concat([df, recc_2, recc_3, recc_4, recc_5, recc_6], ignore_index=True)"
   ]
  },
  {
   "cell_type": "code",
   "execution_count": null,
   "metadata": {},
   "outputs": [],
   "source": [
    "df"
   ]
  },
  {
   "cell_type": "code",
   "execution_count": null,
   "metadata": {},
   "outputs": [],
   "source": [
    "# alternative method to import data: load all sheets based on a defined pattern\n",
    "\n",
    "# load all sheets\n",
    "all_sheets = pd.read_excel(relative_path, sheet_name=None)  # load all sheets as a dictionary\n",
    "\n",
    "# filter sheets that match the pattern\n",
    "selected_sheets = {name: data for name, data in all_sheets.items() if name.startswith('RECC')}\n",
    "\n",
    "# combine matching sheets into a single DataFrame\n",
    "iac_df = pd.concat(\n",
    "    [sheet.assign(RECC=name) for name, sheet in selected_sheets.items()],\n",
    "    ignore_index=True\n",
    ")\n",
    "\n",
    "# display the result\n",
    "print(iac_df.head(10))   # first 10 orders\n",
    "print(iac_df.tail(10))   # last 10 orders"
   ]
  },
  {
   "cell_type": "code",
   "execution_count": null,
   "metadata": {},
   "outputs": [],
   "source": [
    "iac_df.columns.tolist()"
   ]
  },
  {
   "cell_type": "code",
   "execution_count": null,
   "metadata": {},
   "outputs": [],
   "source": [
    "# print columns details\n",
    "\n",
    "column_info = []\n",
    "\n",
    "for col in iac_df.columns:\n",
    "    dtype = str(iac_df[col].dtype)  # ensure dtype is explicitly a string\n",
    "    sample_value = iac_df[col].dropna().iloc[0] if dtype != 'object' else iac_df[col].dropna().iloc[0] \n",
    "    max_length = iac_df[col].str.len().max() if dtype == 'object' else None\n",
    "    unique_count = iac_df[col].nunique()\n",
    "    missing_count = iac_df[col].isnull().sum()  # ensure missing count is explicitly added\n",
    "    column_info.append({\n",
    "        'Column': col,\n",
    "        'Type': dtype,\n",
    "        'Sample Value': sample_value,\n",
    "        'Max Char Length': max_length,\n",
    "        'Unique Values': unique_count\n",
    "    })\n",
    "    \n",
    "# display column info as a table\n",
    "info_df = pd.DataFrame(column_info)\n",
    "print(info_df)"
   ]
  },
  {
   "cell_type": "code",
   "execution_count": null,
   "metadata": {},
   "outputs": [],
   "source": [
    "iac_df"
   ]
  },
  {
   "cell_type": "markdown",
   "metadata": {},
   "source": [
    "# --- Filter and Aggregate Data ---"
   ]
  },
  {
   "cell_type": "code",
   "execution_count": null,
   "metadata": {},
   "outputs": [],
   "source": [
    "\n",
    "# group by fiscal year and calculate counts for implemented and not implemented recommendations\n",
    "status_grouped = df[df['IMPSTATUS'].isin(['I', 'N'])].groupby('FY')['IMPSTATUS'].value_counts().unstack(fill_value=0).reset_index()\n",
    "\n",
    "# rename columns for clarity\n",
    "status_grouped.columns = ['FY', 'Implemented', 'Not Implemented']\n"
   ]
  },
  {
   "cell_type": "markdown",
   "metadata": {},
   "source": [
    "# --- Visualize the IAC Implementation Trends ---"
   ]
  },
  {
   "cell_type": "code",
   "execution_count": null,
   "metadata": {},
   "outputs": [],
   "source": [
    "# set the background style to white and remove gridlines\n",
    "sns.set(style=\"whitegrid\", rc={\"axes.facecolor\": \"white\", \"axes.grid\": False})\n",
    "\n",
    "# create plot\n",
    "plt.figure(figsize=(10, 6))\n",
    "sns.lineplot(x='FY', y='Implemented', data=status_grouped, label='Implemented', color='green')\n",
    "sns.lineplot(x='FY', y='Not Implemented', data=status_grouped, label='Not Implemented', color='#FF7F7F')\n",
    "plt.title('Comparison of Implemented vs. Not Implemented Recommendations Over Time')\n",
    "plt.xlabel('Fiscal Year')\n",
    "plt.ylabel('Number of Recommendations')\n",
    "plt.legend()\n",
    "\n",
    "\n",
    "relative_path_assets = Path('assets')\n",
    "\n",
    "# get absolute path\n",
    "absolute_path_assets = relative_path_assets.resolve()\n",
    "print(absolute_path_assets)\n",
    "\n",
    "# save the first chart\n",
    "line_chart1_path = absolute_path_assets / \"line_chart1.jpeg\"\n",
    "plt.savefig(line_chart1_path, format=\"jpeg\", dpi=300, bbox_inches=\"tight\")\n",
    "print(f\"Chart 1 saved to: {line_chart1_path}\")\n",
    "\n",
    "plt.show()\n"
   ]
  },
  {
   "cell_type": "markdown",
   "metadata": {},
   "source": [
    "# --- Visualize IAC ARCs Implementation Cost vs Savings ---"
   ]
  },
  {
   "cell_type": "code",
   "execution_count": null,
   "metadata": {},
   "outputs": [],
   "source": [
    "# create a DataFrame with implemented ARCs \n",
    "implemented_df = iac_df[iac_df['IMPSTATUS'].isin(['I'])]\n",
    "\n",
    "# define all columns with 'SAVED'\n",
    "savings_columns = [col for col in implemented_df.columns if 'SAVED' in col]\n",
    "\n",
    "# aggregate total savings from all *SAVED columns\n",
    "total_savings = implemented_df[savings_columns].sum(axis=1)\n",
    "\n",
    "# sum all savings columns\n",
    "implemented_df['total_savings'] = implemented_df[savings_columns].sum(axis=1)\n"
   ]
  },
  {
   "cell_type": "code",
   "execution_count": null,
   "metadata": {},
   "outputs": [],
   "source": [
    "# set the background style to white and remove gridlines\n",
    "sns.set(style=\"whitegrid\", rc={\"axes.facecolor\": \"white\", \"axes.grid\": False})\n",
    "\n",
    "# group by fiscal year and calculate total cost and total savings\n",
    "implemented_df['IC_CAPITAL'].fillna(0, inplace=True)\n",
    "implemented_df['IC_OTHER'].fillna(0, inplace=True)\n",
    "implemented_df['total_savings'] = implemented_df.filter(like='SAVED').sum(axis=1)"
   ]
  },
  {
   "cell_type": "code",
   "execution_count": null,
   "metadata": {},
   "outputs": [],
   "source": [
    "comparison_grouped = implemented_df.groupby('FY').agg({\n",
    "    'IC_CAPITAL': 'sum',\n",
    "    'IC_OTHER': 'sum',\n",
    "    'total_savings': 'sum'\n",
    "}).reset_index()\n",
    "\n",
    "# add the costs after aggregation\n",
    "comparison_grouped['total_cost'] = comparison_grouped['IC_CAPITAL'] + comparison_grouped['IC_OTHER']"
   ]
  },
  {
   "cell_type": "code",
   "execution_count": null,
   "metadata": {
    "tags": []
   },
   "outputs": [],
   "source": [
    "# calculate percentage of total cost and savings\n",
    "comparison_grouped['total'] = comparison_grouped['total_cost'] + comparison_grouped['total_savings']\n",
    "comparison_grouped['cost_percentage'] = comparison_grouped['total_cost'] / comparison_grouped['total'] * 100\n",
    "comparison_grouped['savings_percentage'] = comparison_grouped['total_savings'] / comparison_grouped['total'] * 100\n",
    "\n",
    "plt.figure(figsize=(12, 8))\n",
    "comparison_grouped.plot(kind='bar', x='FY', stacked=True, y=['cost_percentage', 'savings_percentage'])\n",
    "plt.axhline(y=50, color='r', linestyle='--')\n",
    "\n",
    "plt.annotate('50%', \n",
    "            xy=(len(comparison_grouped) - 1, 50),\n",
    "            xytext=(10, 0),\n",
    "            textcoords='offset points',\n",
    "            color='r',\n",
    "            va='center')\n",
    "\n",
    "# show every nth label (e.g., every 2nd or 3rd label)\n",
    "n = 3  # adjust this value based on your data density\n",
    "plt.xticks(range(0, len(comparison_grouped), n), \n",
    "          comparison_grouped['FY'][::n], \n",
    "          rotation=45, \n",
    "          ha='right')\n",
    "\n",
    "plt.title('Relative Comparison of Cost vs. Savings for Implemented Recommendations')\n",
    "plt.xlabel('Fiscal Year')\n",
    "plt.ylabel('Percentage')\n",
    "plt.legend(title='Type', \n",
    "          labels=['Cost %', 'Savings %'], \n",
    "          loc='upper left', \n",
    "          bbox_to_anchor=(1.05, 1))\n",
    "\n",
    "plt.tight_layout()\n",
    "plt.show()\n",
    "\n"
   ]
  }
 ],
 "metadata": {
  "kernelspec": {
   "display_name": "Python 3 (ipykernel)",
   "language": "python",
   "name": "python3"
  },
  "language_info": {
   "codemirror_mode": {
    "name": "ipython",
    "version": 3
   },
   "file_extension": ".py",
   "mimetype": "text/x-python",
   "name": "python",
   "nbconvert_exporter": "python",
   "pygments_lexer": "ipython3",
   "version": "3.7.13"
  }
 },
 "nbformat": 4,
 "nbformat_minor": 4
}
