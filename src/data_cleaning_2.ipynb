{
 "cells": [
  {
   "cell_type": "markdown",
   "id": "37c11d9f-4a09-4c7b-943a-55547fe039e8",
   "metadata": {},
   "source": [
    "# Further Data Integration\n",
    "\n",
    "Further data integration of `iac_integration.csv` for Industrial Energy dashboard for Industrial Sustainability Analysis Lab - headed by Dr. Eric Masanet.\n",
    "\n",
    "In this notebook we will:\n",
    "- Select relevant years\n",
    "- Integrate NAICS/SIC codes and descriptions\n",
    "- Select for relevant ARC codes\n",
    "- Integrate ARC descriptions\n",
    "\n",
    "The data required for these processes are in the raw_data and final_data google drive folders."
   ]
  },
  {
   "cell_type": "code",
   "execution_count": null,
   "id": "5a7d84db-4d78-463a-bead-db1230207ae0",
   "metadata": {
    "tags": []
   },
   "outputs": [],
   "source": [
    "# Import relevant libraries\n",
    "import numpy as np\n",
    "import pandas as pd"
   ]
  },
  {
   "cell_type": "code",
   "execution_count": null,
   "id": "63c823ff-1116-4e77-8019-bee6e25c243b",
   "metadata": {
    "tags": []
   },
   "outputs": [],
   "source": [
    "# Read in data\n",
    "iac = pd.read_csv(\"/Users/nmoraes/Capstone/cleaning/data/iac_integrated.csv\")\n",
    "\n",
    "naics = pd.read_csv(\"/Users/nmoraes/Capstone/cleaning/data/NAICS_Codes.csv\")"
   ]
  },
  {
   "cell_type": "code",
   "execution_count": null,
   "id": "b12b5ff6-bd13-4e0e-bebc-634cb43cb728",
   "metadata": {
    "tags": []
   },
   "outputs": [],
   "source": [
    "naic_sics_xwalk = pd.read_csv(\"/Users/nmoraes/Capstone/cleaning/data/NAICS_SIC_Xwalk.csv\")"
   ]
  },
  {
   "cell_type": "code",
   "execution_count": null,
   "id": "a46e1cbd-8a70-4668-9033-eca872459985",
   "metadata": {},
   "outputs": [],
   "source": [
    "arc2 = pd.read_csv(\"/Users/nmoraes/Capstone/cleaning/data/ARC2.csv\")"
   ]
  },
  {
   "cell_type": "code",
   "execution_count": null,
   "id": "4b5a9607-8eac-4b37-81a4-145f09314a7e",
   "metadata": {
    "tags": []
   },
   "outputs": [],
   "source": [
    "# Set all column names to visible\n",
    "pd.set_option('display.max_columns', None)\n",
    "\n",
    "# Explore csv columns\n",
    "iac.head(1)"
   ]
  },
  {
   "cell_type": "markdown",
   "id": "4d47e59d-8a26-4369-8456-e1f53d461746",
   "metadata": {},
   "source": [
    "Looking at the codes within the 'naics' column in the iac df - we notice that the codes are six digits with a '.' at the end. To join the naics df - we must clean this column."
   ]
  },
  {
   "cell_type": "code",
   "execution_count": null,
   "id": "acdf003a-f195-4d1f-bd64-0291bb7d240e",
   "metadata": {
    "tags": []
   },
   "outputs": [],
   "source": [
    "#iac.naics.unique() # Uncomment to view"
   ]
  },
  {
   "cell_type": "code",
   "execution_count": null,
   "id": "b9fe9f02-0049-40f3-9e48-cb9a9da65aae",
   "metadata": {
    "tags": []
   },
   "outputs": [],
   "source": [
    "def clean_naics(value):\n",
    "    if pd.isna(value):\n",
    "        # Return NaN values as is\n",
    "        return value\n",
    "    else:\n",
    "        # Convert to string first to handle the value properly\n",
    "        value_str = str(value)\n",
    "        # Remove decimal point and trailing zeros\n",
    "        if '.' in value_str:\n",
    "            return value_str.split('.')[0]\n",
    "        else:\n",
    "            return value_str"
   ]
  },
  {
   "cell_type": "code",
   "execution_count": null,
   "id": "1c8a6f3d-192c-4e6f-9901-8952957c53e1",
   "metadata": {
    "tags": []
   },
   "outputs": [],
   "source": [
    "iac['naics'] = iac['naics'].apply(clean_naics)"
   ]
  },
  {
   "cell_type": "code",
   "execution_count": null,
   "id": "77d0cf33-893d-4940-aeb3-249900ed532e",
   "metadata": {
    "tags": []
   },
   "outputs": [],
   "source": [
    "# Double-check\n",
    "\n",
    "# iac.tail() # Uncomment to view"
   ]
  },
  {
   "cell_type": "code",
   "execution_count": null,
   "id": "f6a55b5f-b51b-41f2-a568-deabc26a17ed",
   "metadata": {
    "tags": []
   },
   "outputs": [],
   "source": [
    "naics.head()"
   ]
  },
  {
   "cell_type": "code",
   "execution_count": null,
   "id": "b7016c72-94c0-483e-b598-a3ad0e54bca5",
   "metadata": {
    "tags": []
   },
   "outputs": [],
   "source": [
    "naics.columns"
   ]
  },
  {
   "cell_type": "code",
   "execution_count": null,
   "id": "fa69eccb-d473-45d7-98dc-51ac38f744f1",
   "metadata": {
    "tags": []
   },
   "outputs": [],
   "source": [
    "naics_clean = naics.drop(['Seq. No.','Unnamed: 4'], axis=1)"
   ]
  },
  {
   "cell_type": "code",
   "execution_count": null,
   "id": "4649fd03-3ee9-4137-858e-20cd1798e699",
   "metadata": {
    "tags": []
   },
   "outputs": [],
   "source": [
    "naics_clean.head()"
   ]
  },
  {
   "cell_type": "code",
   "execution_count": null,
   "id": "2d8fd18c-b4d3-4baf-b31e-a3f27c4102c0",
   "metadata": {
    "tags": []
   },
   "outputs": [],
   "source": [
    "# Create the naics lookup from naics_clean\n",
    "naics_lookup = dict(zip(\n",
    "    naics_clean['2022 NAICS US   Code'].astype(str),\n",
    "    naics_clean['Description']\n",
    "))\n",
    "\n",
    "# Apply the lookup to iac dd\n",
    "iac['naics'] = iac['naics'].astype(str)\n",
    "iac['naics_description'] = iac['naics'].map(naics_lookup)"
   ]
  },
  {
   "cell_type": "code",
   "execution_count": null,
   "id": "641da4ba-5459-495a-bb65-b4a5fbcee840",
   "metadata": {
    "tags": []
   },
   "outputs": [],
   "source": [
    "iac = iac[(iac['fy'] > 1989) & (iac['arc2'] < 3)]"
   ]
  },
  {
   "cell_type": "code",
   "execution_count": null,
   "id": "3c907d82-3035-47f4-87d7-f604b2c02087",
   "metadata": {
    "tags": []
   },
   "outputs": [],
   "source": [
    "iac.head(3)"
   ]
  },
  {
   "cell_type": "code",
   "execution_count": null,
   "id": "e0839448-f460-4b39-84ed-4f150fa7aaf8",
   "metadata": {
    "tags": []
   },
   "outputs": [],
   "source": [
    "naic_sics_xwalk.head(3)"
   ]
  },
  {
   "cell_type": "code",
   "execution_count": null,
   "id": "17a9bc2a-6c5a-4e69-8676-0dfa76473859",
   "metadata": {
    "tags": []
   },
   "outputs": [],
   "source": [
    "naic_sics_xwalk.columns"
   ]
  },
  {
   "cell_type": "code",
   "execution_count": null,
   "id": "90c2e786-9569-4503-9818-df0550a88aa4",
   "metadata": {
    "tags": []
   },
   "outputs": [],
   "source": [
    "naic_sics_xwalk_clean = naic_sics_xwalk.drop(['Input Seq 1', 'Change to 2017 Code', '2017 NAICS Code', '2017 NAICS Code.1'], axis=1)"
   ]
  },
  {
   "cell_type": "code",
   "execution_count": null,
   "id": "06df0b76-2925-4521-8608-5f118c227176",
   "metadata": {
    "tags": []
   },
   "outputs": [],
   "source": [
    "# Create the naics lookup from naic_sics_xwalk_clean\n",
    "naics_title_lookup = dict(zip(\n",
    "    naic_sics_xwalk_clean['2022 NAICS Code'].astype(str),\n",
    "    naic_sics_xwalk_clean['2022 NAICS Title']\n",
    "))\n",
    "\n",
    "sic_code_lookup = dict(zip(\n",
    "    naic_sics_xwalk_clean['2022 NAICS Code'].astype(str),\n",
    "    naic_sics_xwalk_clean['Related SIC Code']\n",
    "))\n",
    "    \n",
    "sic_desc_lookup = dict(zip(\n",
    "    naic_sics_xwalk_clean['2022 NAICS Code'].astype(str),\n",
    "    naic_sics_xwalk_clean['Related SIC Code Description']\n",
    "))"
   ]
  },
  {
   "cell_type": "code",
   "execution_count": null,
   "id": "f8c0af02-b090-440a-95d8-cb81d1cfdedc",
   "metadata": {
    "tags": []
   },
   "outputs": [],
   "source": [
    "arc2_lookup = dict(zip(\n",
    "    arc2['specific_code'].astype(str),\n",
    "    arc2['specific_description']\n",
    "))"
   ]
  },
  {
   "cell_type": "code",
   "execution_count": null,
   "id": "f696cbbe-3f55-4e82-a6a0-428c0feff29a",
   "metadata": {
    "tags": []
   },
   "outputs": [],
   "source": [
    "# Apply the lookup to iac dd\n",
    "iac['naics'] = iac['naics'].astype(str)\n",
    "iac['naics_description'] = iac['naics'].map(naics_lookup)\n",
    "iac['sic'] = iac['naics'].map(sic_code_lookup)\n",
    "iac['sic_description'] = iac['naics'].map(sic_desc_lookup)"
   ]
  },
  {
   "cell_type": "code",
   "execution_count": null,
   "id": "04225ccd-f9a0-4cc5-9b05-fd8aa4c1922a",
   "metadata": {
    "tags": []
   },
   "outputs": [],
   "source": [
    "iac['arc2'] = iac['arc2'].astype(str)\n",
    "iac['arc_description'] = iac['arc2'].map(arc2_lookup)"
   ]
  },
  {
   "cell_type": "code",
   "execution_count": null,
   "id": "9c38a50c-47bc-4c1a-98ac-f31faae51382",
   "metadata": {
    "tags": []
   },
   "outputs": [],
   "source": [
    "iac.head(3)"
   ]
  },
  {
   "cell_type": "code",
   "execution_count": null,
   "id": "779b53cc-26a2-4ecc-8d58-9c5aad57fcb1",
   "metadata": {
    "tags": []
   },
   "outputs": [],
   "source": [
    "# Save new 'iac' df to csv for PPI integration\n",
    "iac.to_csv('iac_integrated_2.csv')"
   ]
  }
 ],
 "metadata": {
  "kernelspec": {
   "display_name": "Python 3.10.0",
   "language": "python",
   "name": "python3.10.0"
  },
  "language_info": {
   "codemirror_mode": {
    "name": "ipython",
    "version": 3
   },
   "file_extension": ".py",
   "mimetype": "text/x-python",
   "name": "python",
   "nbconvert_exporter": "python",
   "pygments_lexer": "ipython3",
   "version": "3.10.0"
  }
 },
 "nbformat": 4,
 "nbformat_minor": 5
}
