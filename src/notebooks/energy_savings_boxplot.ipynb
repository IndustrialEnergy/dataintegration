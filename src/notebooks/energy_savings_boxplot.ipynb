{
 "cells": [
  {
   "cell_type": "markdown",
   "id": "68b583ee-0801-48e5-8d55-6ac10a484378",
   "metadata": {},
   "source": [
    "## This is the notebook detailing the energy savings for the Industrial Energy Capstone Project\n",
    "\n",
    "The boxplot will detail energy savings for a given set of inputs"
   ]
  },
  {
   "cell_type": "code",
   "execution_count": 1,
   "id": "11abc1ad-65be-4a3f-9ac3-81feebb70a61",
   "metadata": {},
   "outputs": [],
   "source": [
    "# Import Packages\n",
    "import pandas as pd\n",
    "from pathlib import Path\n",
    "import numpy as npq\n",
    "import seaborn as sns\n",
    "import matplotlib.pyplot as plt\n",
    "import janitor\n",
    "from janitor import clean_names"
   ]
  },
  {
   "cell_type": "code",
   "execution_count": 2,
   "id": "9446d910-e457-4196-9c50-8f1fa7024b45",
   "metadata": {
    "tags": []
   },
   "outputs": [
    {
     "name": "stderr",
     "output_type": "stream",
     "text": [
      "C:\\Users\\Brent Newby\\AppData\\Local\\Temp\\ipykernel_19828\\2913574641.py:9: DtypeWarning: Columns (20) have mixed types. Specify dtype option on import or set low_memory=False.\n",
      "  assess_recc_ppi_df = pd.read_csv(absolute_path/'assess_recc_ppi_emissions.csv') # import IAC recc dataset\n"
     ]
    }
   ],
   "source": [
    "# Load Data\n",
    "# ------- define paths -------\n",
    "relative_path = Path('../data/intermediate_data/') # define relative path\n",
    "absolute_path = relative_path.resolve() # get absolute path\n",
    "\n",
    "\n",
    "# ------- import data -------\n",
    "#assess_df = pd.read_csv(absolute_path/'iac_assess_tidy.csv') # import IAC assess dataset\n",
    "assess_recc_ppi_df = pd.read_csv(absolute_path/'assess_recc_ppi_emissions.csv') # import IAC recc dataset\n",
    "#ppi_df = pd.read_csv(absolute_path/'ppi_tidy.csv') # import ppi dataset"
   ]
  },
  {
   "cell_type": "code",
   "execution_count": 4,
   "id": "42b81e31-2e79-4011-8f7f-05af745733fa",
   "metadata": {
    "tags": []
   },
   "outputs": [
    {
     "data": {
      "text/html": [
       "<div>\n",
       "<style scoped>\n",
       "    .dataframe tbody tr th:only-of-type {\n",
       "        vertical-align: middle;\n",
       "    }\n",
       "\n",
       "    .dataframe tbody tr th {\n",
       "        vertical-align: top;\n",
       "    }\n",
       "\n",
       "    .dataframe thead th {\n",
       "        text-align: right;\n",
       "    }\n",
       "</style>\n",
       "<table border=\"1\" class=\"dataframe\">\n",
       "  <thead>\n",
       "    <tr style=\"text-align: right;\">\n",
       "      <th></th>\n",
       "      <th>Unnamed: 0</th>\n",
       "      <th>superid</th>\n",
       "      <th>id</th>\n",
       "      <th>ar_number</th>\n",
       "      <th>appcode</th>\n",
       "      <th>arc2</th>\n",
       "      <th>impstatus</th>\n",
       "      <th>impcost</th>\n",
       "      <th>ref_year_impcost</th>\n",
       "      <th>source_rank</th>\n",
       "      <th>...</th>\n",
       "      <th>products</th>\n",
       "      <th>produnits</th>\n",
       "      <th>prodlevel</th>\n",
       "      <th>prodhours</th>\n",
       "      <th>numars</th>\n",
       "      <th>plant_cost</th>\n",
       "      <th>plant_usage</th>\n",
       "      <th>emissions</th>\n",
       "      <th>u</th>\n",
       "      <th>emission_value</th>\n",
       "    </tr>\n",
       "  </thead>\n",
       "  <tbody>\n",
       "    <tr>\n",
       "      <th>0</th>\n",
       "      <td>0</td>\n",
       "      <td>AM007601</td>\n",
       "      <td>am0076</td>\n",
       "      <td>1</td>\n",
       "      <td>NaN</td>\n",
       "      <td>2.3212</td>\n",
       "      <td>I</td>\n",
       "      <td>64000.0</td>\n",
       "      <td>64000.0</td>\n",
       "      <td>PSOURCCODE</td>\n",
       "      <td>...</td>\n",
       "      <td>PIPECOATING</td>\n",
       "      <td>6.0</td>\n",
       "      <td>9038.0</td>\n",
       "      <td>2400.0</td>\n",
       "      <td>5.0</td>\n",
       "      <td>269266.0</td>\n",
       "      <td>3456917.0</td>\n",
       "      <td>2.615849e+06</td>\n",
       "      <td>kg</td>\n",
       "      <td>0.0</td>\n",
       "    </tr>\n",
       "    <tr>\n",
       "      <th>1</th>\n",
       "      <td>1</td>\n",
       "      <td>AM007601</td>\n",
       "      <td>am0076</td>\n",
       "      <td>1</td>\n",
       "      <td>NaN</td>\n",
       "      <td>2.3212</td>\n",
       "      <td>I</td>\n",
       "      <td>64000.0</td>\n",
       "      <td>64000.0</td>\n",
       "      <td>PSOURCCODE</td>\n",
       "      <td>...</td>\n",
       "      <td>PIPECOATING</td>\n",
       "      <td>6.0</td>\n",
       "      <td>9038.0</td>\n",
       "      <td>2400.0</td>\n",
       "      <td>5.0</td>\n",
       "      <td>269266.0</td>\n",
       "      <td>3456917.0</td>\n",
       "      <td>6.985103e+03</td>\n",
       "      <td>kg</td>\n",
       "      <td>0.0</td>\n",
       "    </tr>\n",
       "    <tr>\n",
       "      <th>2</th>\n",
       "      <td>2</td>\n",
       "      <td>AM007601</td>\n",
       "      <td>am0076</td>\n",
       "      <td>1</td>\n",
       "      <td>NaN</td>\n",
       "      <td>2.3212</td>\n",
       "      <td>I</td>\n",
       "      <td>64000.0</td>\n",
       "      <td>64000.0</td>\n",
       "      <td>PSOURCCODE</td>\n",
       "      <td>...</td>\n",
       "      <td>PIPECOATING</td>\n",
       "      <td>6.0</td>\n",
       "      <td>9038.0</td>\n",
       "      <td>2400.0</td>\n",
       "      <td>5.0</td>\n",
       "      <td>269266.0</td>\n",
       "      <td>3456917.0</td>\n",
       "      <td>8.137185e+03</td>\n",
       "      <td>kg</td>\n",
       "      <td>0.0</td>\n",
       "    </tr>\n",
       "    <tr>\n",
       "      <th>3</th>\n",
       "      <td>3</td>\n",
       "      <td>AM007601</td>\n",
       "      <td>am0076</td>\n",
       "      <td>1</td>\n",
       "      <td>NaN</td>\n",
       "      <td>2.3212</td>\n",
       "      <td>I</td>\n",
       "      <td>64000.0</td>\n",
       "      <td>64000.0</td>\n",
       "      <td>PSOURCCODE</td>\n",
       "      <td>...</td>\n",
       "      <td>PIPECOATING</td>\n",
       "      <td>6.0</td>\n",
       "      <td>9038.0</td>\n",
       "      <td>2400.0</td>\n",
       "      <td>5.0</td>\n",
       "      <td>29923.0</td>\n",
       "      <td>8238.0</td>\n",
       "      <td>6.233694e+03</td>\n",
       "      <td>kg</td>\n",
       "      <td>0.0</td>\n",
       "    </tr>\n",
       "    <tr>\n",
       "      <th>4</th>\n",
       "      <td>4</td>\n",
       "      <td>AM007601</td>\n",
       "      <td>am0076</td>\n",
       "      <td>1</td>\n",
       "      <td>NaN</td>\n",
       "      <td>2.3212</td>\n",
       "      <td>I</td>\n",
       "      <td>64000.0</td>\n",
       "      <td>64000.0</td>\n",
       "      <td>PSOURCCODE</td>\n",
       "      <td>...</td>\n",
       "      <td>PIPECOATING</td>\n",
       "      <td>6.0</td>\n",
       "      <td>9038.0</td>\n",
       "      <td>2400.0</td>\n",
       "      <td>5.0</td>\n",
       "      <td>29923.0</td>\n",
       "      <td>8238.0</td>\n",
       "      <td>1.664584e+01</td>\n",
       "      <td>kg</td>\n",
       "      <td>0.0</td>\n",
       "    </tr>\n",
       "  </tbody>\n",
       "</table>\n",
       "<p>5 rows × 47 columns</p>\n",
       "</div>"
      ],
      "text/plain": [
       "   Unnamed: 0   superid      id  ar_number  appcode    arc2 impstatus  \\\n",
       "0           0  AM007601  am0076          1      NaN  2.3212         I   \n",
       "1           1  AM007601  am0076          1      NaN  2.3212         I   \n",
       "2           2  AM007601  am0076          1      NaN  2.3212         I   \n",
       "3           3  AM007601  am0076          1      NaN  2.3212         I   \n",
       "4           4  AM007601  am0076          1      NaN  2.3212         I   \n",
       "\n",
       "   impcost  ref_year_impcost source_rank  ...     products  produnits  \\\n",
       "0  64000.0           64000.0  PSOURCCODE  ...  PIPECOATING        6.0   \n",
       "1  64000.0           64000.0  PSOURCCODE  ...  PIPECOATING        6.0   \n",
       "2  64000.0           64000.0  PSOURCCODE  ...  PIPECOATING        6.0   \n",
       "3  64000.0           64000.0  PSOURCCODE  ...  PIPECOATING        6.0   \n",
       "4  64000.0           64000.0  PSOURCCODE  ...  PIPECOATING        6.0   \n",
       "\n",
       "   prodlevel  prodhours numars plant_cost  plant_usage     emissions   u  \\\n",
       "0     9038.0     2400.0    5.0   269266.0    3456917.0  2.615849e+06  kg   \n",
       "1     9038.0     2400.0    5.0   269266.0    3456917.0  6.985103e+03  kg   \n",
       "2     9038.0     2400.0    5.0   269266.0    3456917.0  8.137185e+03  kg   \n",
       "3     9038.0     2400.0    5.0    29923.0       8238.0  6.233694e+03  kg   \n",
       "4     9038.0     2400.0    5.0    29923.0       8238.0  1.664584e+01  kg   \n",
       "\n",
       "   emission_value  \n",
       "0             0.0  \n",
       "1             0.0  \n",
       "2             0.0  \n",
       "3             0.0  \n",
       "4             0.0  \n",
       "\n",
       "[5 rows x 47 columns]"
      ]
     },
     "execution_count": 4,
     "metadata": {},
     "output_type": "execute_result"
    }
   ],
   "source": [
    "# Check first 5 rows\n",
    "assess_recc_ppi_df.head()"
   ]
  },
  {
   "cell_type": "code",
   "execution_count": 9,
   "id": "997b4d29-5d71-424c-a2d8-4865b6fdba3f",
   "metadata": {},
   "outputs": [
    {
     "data": {
      "text/plain": [
       "array([2.4236, 2.2511, 2.4231, 2.7142, 2.7124, 2.2523, 2.4239, 2.7421,\n",
       "       2.7121, 2.4314, 2.7135, 2.7145, 2.7134, 3.4115, 2.4133])"
      ]
     },
     "execution_count": 9,
     "metadata": {},
     "output_type": "execute_result"
    }
   ],
   "source": [
    "\n",
    "# get arcs2 for sector = 311 (food production)\n",
    "assess_recc_ppi_311_df = assess_recc_ppi_df[assess_recc_ppi_df['naics'].astype(str).str.startswith('311')]\n",
    "\n",
    "assess_recc_ppi_311_df[assess_recc_ppi_311_df['superid']=='AM043901']\n",
    "assess_recc_ppi_311_df[assess_recc_ppi_311_df['id']=='AM0439']\n",
    "\n",
    "assess_recc_ppi_311_df['arc2'].unique()[:15]\n"
   ]
  },
  {
   "cell_type": "code",
   "execution_count": 10,
   "id": "def1dbed",
   "metadata": {},
   "outputs": [],
   "source": [
    "# set filters\n",
    "arc2_filter = [4.132 , 4.652 , 3.7214, 2.1113, 3.4111, 2.4236, 2.2113, 2.2511, \n",
    "               2.4231, 2.7142, 3.4154, 2.2135, 2.7124, 2.2136, 2.2523]\n",
    "sector_filter = '311'\n",
    "period_filter_from = 2010\n",
    "period_filter_to = 2024"
   ]
  },
  {
   "cell_type": "code",
   "execution_count": 12,
   "id": "9f358f0d",
   "metadata": {},
   "outputs": [],
   "source": [
    "# <remove> when PPI values are updated for all ARCs\n",
    "# drop rows where IMPCOST is NA\n",
    "filtered_clean_df = assess_recc_ppi_311_df.dropna(subset=['ref_year_impcost'])"
   ]
  },
  {
   "cell_type": "code",
   "execution_count": 16,
   "id": "8aec3bd8",
   "metadata": {},
   "outputs": [
    {
     "name": "stdout",
     "output_type": "stream",
     "text": [
      "        impstatus  ref_year_impcost\n",
      "21054           I      68790.248963\n",
      "21055           I      68790.248963\n",
      "21056           I      68790.248963\n",
      "21057           I      68790.248963\n",
      "21058           I      68790.248963\n",
      "...           ...               ...\n",
      "1068109         N     106614.674868\n",
      "1068110         N     106614.674868\n",
      "1068111         N     106614.674868\n",
      "1068112         N     106614.674868\n",
      "1068113         N     106614.674868\n",
      "\n",
      "[3700 rows x 2 columns]\n"
     ]
    }
   ],
   "source": [
    "# calculate the outliers\n",
    "\n",
    "# Compute Q1, Q3, and IQR\n",
    "Q1 = assess_recc_ppi_df[\"ref_year_impcost\"].quantile(0.25)\n",
    "Q3 = assess_recc_ppi_311_df[\"ref_year_impcost\"].quantile(0.75)\n",
    "IQR = Q3 - Q1\n",
    "\n",
    "# Define outlier thresholds\n",
    "lower_bound = Q1 - 1.5 * IQR\n",
    "upper_bound = Q3 + 1.5 * IQR\n",
    "\n",
    "# Identify outliers\n",
    "outliers = filtered_clean_df[(filtered_clean_df[\"ref_year_impcost\"] < lower_bound) | (filtered_clean_df[\"ref_year_impcost\"] > upper_bound)]\n",
    "\n",
    "# Display outliers\n",
    "print(outliers[[\"impstatus\", \"ref_year_impcost\"]])"
   ]
  },
  {
   "cell_type": "code",
   "execution_count": 17,
   "id": "12a1102f",
   "metadata": {},
   "outputs": [],
   "source": [
    "# Define a path to save visualizations\n",
    "\n",
    "# Define relative path\n",
    "relative_path_vis = Path('../assets/')\n",
    "absolute_path_vis = relative_path_vis.resolve() # get absolute path"
   ]
  },
  {
   "cell_type": "code",
   "execution_count": 21,
   "id": "6a4f8085",
   "metadata": {},
   "outputs": [
    {
     "name": "stdout",
     "output_type": "stream",
     "text": [
      "['I' 'N' nan 'K']\n"
     ]
    }
   ],
   "source": [
    "# troubleshooting\n",
    "print(filtered_clean_df['impstatus'].unique())\n"
   ]
  },
  {
   "cell_type": "code",
   "execution_count": 22,
   "id": "d4c3ee7d",
   "metadata": {},
   "outputs": [
    {
     "name": "stderr",
     "output_type": "stream",
     "text": [
      "c:\\ProgramData\\anaconda3\\Lib\\site-packages\\executing\\executing.py:713: DeprecationWarning: ast.Str is deprecated and will be removed in Python 3.14; use ast.Constant instead\n",
      "  right=ast.Str(s=sentinel),\n",
      "c:\\ProgramData\\anaconda3\\Lib\\ast.py:587: DeprecationWarning: Attribute s is deprecated and will be removed in Python 3.14; use value instead\n",
      "  return Constant(*args, **kwargs)\n",
      "c:\\ProgramData\\anaconda3\\Lib\\site-packages\\executing\\executing.py:713: DeprecationWarning: ast.Str is deprecated and will be removed in Python 3.14; use ast.Constant instead\n",
      "  right=ast.Str(s=sentinel),\n",
      "c:\\ProgramData\\anaconda3\\Lib\\ast.py:587: DeprecationWarning: Attribute s is deprecated and will be removed in Python 3.14; use value instead\n",
      "  return Constant(*args, **kwargs)\n",
      "c:\\ProgramData\\anaconda3\\Lib\\site-packages\\executing\\executing.py:713: DeprecationWarning: ast.Str is deprecated and will be removed in Python 3.14; use ast.Constant instead\n",
      "  right=ast.Str(s=sentinel),\n",
      "c:\\ProgramData\\anaconda3\\Lib\\ast.py:587: DeprecationWarning: Attribute s is deprecated and will be removed in Python 3.14; use value instead\n",
      "  return Constant(*args, **kwargs)\n",
      "c:\\ProgramData\\anaconda3\\Lib\\site-packages\\executing\\executing.py:713: DeprecationWarning: ast.Str is deprecated and will be removed in Python 3.14; use ast.Constant instead\n",
      "  right=ast.Str(s=sentinel),\n",
      "c:\\ProgramData\\anaconda3\\Lib\\ast.py:587: DeprecationWarning: Attribute s is deprecated and will be removed in Python 3.14; use value instead\n",
      "  return Constant(*args, **kwargs)\n",
      "c:\\ProgramData\\anaconda3\\Lib\\site-packages\\executing\\executing.py:713: DeprecationWarning: ast.Str is deprecated and will be removed in Python 3.14; use ast.Constant instead\n",
      "  right=ast.Str(s=sentinel),\n",
      "c:\\ProgramData\\anaconda3\\Lib\\ast.py:587: DeprecationWarning: Attribute s is deprecated and will be removed in Python 3.14; use value instead\n",
      "  return Constant(*args, **kwargs)\n",
      "c:\\ProgramData\\anaconda3\\Lib\\site-packages\\executing\\executing.py:713: DeprecationWarning: ast.Str is deprecated and will be removed in Python 3.14; use ast.Constant instead\n",
      "  right=ast.Str(s=sentinel),\n",
      "c:\\ProgramData\\anaconda3\\Lib\\ast.py:587: DeprecationWarning: Attribute s is deprecated and will be removed in Python 3.14; use value instead\n",
      "  return Constant(*args, **kwargs)\n",
      "c:\\ProgramData\\anaconda3\\Lib\\site-packages\\executing\\executing.py:713: DeprecationWarning: ast.Str is deprecated and will be removed in Python 3.14; use ast.Constant instead\n",
      "  right=ast.Str(s=sentinel),\n",
      "c:\\ProgramData\\anaconda3\\Lib\\ast.py:587: DeprecationWarning: Attribute s is deprecated and will be removed in Python 3.14; use value instead\n",
      "  return Constant(*args, **kwargs)\n",
      "c:\\ProgramData\\anaconda3\\Lib\\site-packages\\executing\\executing.py:713: DeprecationWarning: ast.Str is deprecated and will be removed in Python 3.14; use ast.Constant instead\n",
      "  right=ast.Str(s=sentinel),\n",
      "c:\\ProgramData\\anaconda3\\Lib\\ast.py:587: DeprecationWarning: Attribute s is deprecated and will be removed in Python 3.14; use value instead\n",
      "  return Constant(*args, **kwargs)\n",
      "c:\\ProgramData\\anaconda3\\Lib\\site-packages\\executing\\executing.py:713: DeprecationWarning: ast.Str is deprecated and will be removed in Python 3.14; use ast.Constant instead\n",
      "  right=ast.Str(s=sentinel),\n",
      "c:\\ProgramData\\anaconda3\\Lib\\ast.py:587: DeprecationWarning: Attribute s is deprecated and will be removed in Python 3.14; use value instead\n",
      "  return Constant(*args, **kwargs)\n",
      "c:\\ProgramData\\anaconda3\\Lib\\site-packages\\executing\\executing.py:713: DeprecationWarning: ast.Str is deprecated and will be removed in Python 3.14; use ast.Constant instead\n",
      "  right=ast.Str(s=sentinel),\n",
      "c:\\ProgramData\\anaconda3\\Lib\\ast.py:587: DeprecationWarning: Attribute s is deprecated and will be removed in Python 3.14; use value instead\n",
      "  return Constant(*args, **kwargs)\n",
      "c:\\ProgramData\\anaconda3\\Lib\\site-packages\\executing\\executing.py:713: DeprecationWarning: ast.Str is deprecated and will be removed in Python 3.14; use ast.Constant instead\n",
      "  right=ast.Str(s=sentinel),\n",
      "c:\\ProgramData\\anaconda3\\Lib\\ast.py:587: DeprecationWarning: Attribute s is deprecated and will be removed in Python 3.14; use value instead\n",
      "  return Constant(*args, **kwargs)\n",
      "c:\\ProgramData\\anaconda3\\Lib\\site-packages\\executing\\executing.py:713: DeprecationWarning: ast.Str is deprecated and will be removed in Python 3.14; use ast.Constant instead\n",
      "  right=ast.Str(s=sentinel),\n",
      "c:\\ProgramData\\anaconda3\\Lib\\ast.py:587: DeprecationWarning: Attribute s is deprecated and will be removed in Python 3.14; use value instead\n",
      "  return Constant(*args, **kwargs)\n",
      "c:\\ProgramData\\anaconda3\\Lib\\site-packages\\executing\\executing.py:713: DeprecationWarning: ast.Str is deprecated and will be removed in Python 3.14; use ast.Constant instead\n",
      "  right=ast.Str(s=sentinel),\n",
      "c:\\ProgramData\\anaconda3\\Lib\\ast.py:587: DeprecationWarning: Attribute s is deprecated and will be removed in Python 3.14; use value instead\n",
      "  return Constant(*args, **kwargs)\n",
      "c:\\ProgramData\\anaconda3\\Lib\\site-packages\\executing\\executing.py:713: DeprecationWarning: ast.Str is deprecated and will be removed in Python 3.14; use ast.Constant instead\n",
      "  right=ast.Str(s=sentinel),\n",
      "c:\\ProgramData\\anaconda3\\Lib\\ast.py:587: DeprecationWarning: Attribute s is deprecated and will be removed in Python 3.14; use value instead\n",
      "  return Constant(*args, **kwargs)\n",
      "c:\\ProgramData\\anaconda3\\Lib\\site-packages\\executing\\executing.py:713: DeprecationWarning: ast.Str is deprecated and will be removed in Python 3.14; use ast.Constant instead\n",
      "  right=ast.Str(s=sentinel),\n",
      "c:\\ProgramData\\anaconda3\\Lib\\ast.py:587: DeprecationWarning: Attribute s is deprecated and will be removed in Python 3.14; use value instead\n",
      "  return Constant(*args, **kwargs)\n",
      "c:\\ProgramData\\anaconda3\\Lib\\site-packages\\executing\\executing.py:713: DeprecationWarning: ast.Str is deprecated and will be removed in Python 3.14; use ast.Constant instead\n",
      "  right=ast.Str(s=sentinel),\n",
      "c:\\ProgramData\\anaconda3\\Lib\\ast.py:587: DeprecationWarning: Attribute s is deprecated and will be removed in Python 3.14; use value instead\n",
      "  return Constant(*args, **kwargs)\n"
     ]
    },
    {
     "ename": "FileNotFoundError",
     "evalue": "[Errno 2] No such file or directory: 'C:\\\\MEDS\\\\capstone\\\\industrialenergy_datainterface\\\\assets\\\\energy_savings_boxplot.png'",
     "output_type": "error",
     "traceback": [
      "\u001b[1;31m---------------------------------------------------------------------------\u001b[0m",
      "\u001b[1;31mFileNotFoundError\u001b[0m                         Traceback (most recent call last)",
      "Cell \u001b[1;32mIn[22], line 19\u001b[0m\n\u001b[0;32m     16\u001b[0m plt\u001b[38;5;241m.\u001b[39mylabel(\u001b[38;5;124m\"\u001b[39m\u001b[38;5;124m\"\u001b[39m)\n\u001b[0;32m     18\u001b[0m \u001b[38;5;66;03m# Save the plot to an image file (e.g., PNG)\u001b[39;00m\n\u001b[1;32m---> 19\u001b[0m plt\u001b[38;5;241m.\u001b[39msavefig(absolute_path_vis\u001b[38;5;241m/\u001b[39m\u001b[38;5;124m'\u001b[39m\u001b[38;5;124menergy_savings_boxplot.png\u001b[39m\u001b[38;5;124m'\u001b[39m, \u001b[38;5;28mformat\u001b[39m\u001b[38;5;241m=\u001b[39m\u001b[38;5;124m'\u001b[39m\u001b[38;5;124mpng\u001b[39m\u001b[38;5;124m'\u001b[39m) \n\u001b[0;32m     21\u001b[0m plt\u001b[38;5;241m.\u001b[39mshow()\n",
      "File \u001b[1;32mc:\\ProgramData\\anaconda3\\Lib\\site-packages\\matplotlib\\pyplot.py:1134\u001b[0m, in \u001b[0;36msavefig\u001b[1;34m(*args, **kwargs)\u001b[0m\n\u001b[0;32m   1131\u001b[0m fig \u001b[38;5;241m=\u001b[39m gcf()\n\u001b[0;32m   1132\u001b[0m \u001b[38;5;66;03m# savefig default implementation has no return, so mypy is unhappy\u001b[39;00m\n\u001b[0;32m   1133\u001b[0m \u001b[38;5;66;03m# presumably this is here because subclasses can return?\u001b[39;00m\n\u001b[1;32m-> 1134\u001b[0m res \u001b[38;5;241m=\u001b[39m fig\u001b[38;5;241m.\u001b[39msavefig(\u001b[38;5;241m*\u001b[39margs, \u001b[38;5;241m*\u001b[39m\u001b[38;5;241m*\u001b[39mkwargs)  \u001b[38;5;66;03m# type: ignore[func-returns-value]\u001b[39;00m\n\u001b[0;32m   1135\u001b[0m fig\u001b[38;5;241m.\u001b[39mcanvas\u001b[38;5;241m.\u001b[39mdraw_idle()  \u001b[38;5;66;03m# Need this if 'transparent=True', to reset colors.\u001b[39;00m\n\u001b[0;32m   1136\u001b[0m \u001b[38;5;28;01mreturn\u001b[39;00m res\n",
      "File \u001b[1;32mc:\\ProgramData\\anaconda3\\Lib\\site-packages\\matplotlib\\figure.py:3390\u001b[0m, in \u001b[0;36mFigure.savefig\u001b[1;34m(self, fname, transparent, **kwargs)\u001b[0m\n\u001b[0;32m   3388\u001b[0m     \u001b[38;5;28;01mfor\u001b[39;00m ax \u001b[38;5;129;01min\u001b[39;00m \u001b[38;5;28mself\u001b[39m\u001b[38;5;241m.\u001b[39maxes:\n\u001b[0;32m   3389\u001b[0m         _recursively_make_axes_transparent(stack, ax)\n\u001b[1;32m-> 3390\u001b[0m \u001b[38;5;28mself\u001b[39m\u001b[38;5;241m.\u001b[39mcanvas\u001b[38;5;241m.\u001b[39mprint_figure(fname, \u001b[38;5;241m*\u001b[39m\u001b[38;5;241m*\u001b[39mkwargs)\n",
      "File \u001b[1;32mc:\\ProgramData\\anaconda3\\Lib\\site-packages\\matplotlib\\backend_bases.py:2193\u001b[0m, in \u001b[0;36mFigureCanvasBase.print_figure\u001b[1;34m(self, filename, dpi, facecolor, edgecolor, orientation, format, bbox_inches, pad_inches, bbox_extra_artists, backend, **kwargs)\u001b[0m\n\u001b[0;32m   2189\u001b[0m \u001b[38;5;28;01mtry\u001b[39;00m:\n\u001b[0;32m   2190\u001b[0m     \u001b[38;5;66;03m# _get_renderer may change the figure dpi (as vector formats\u001b[39;00m\n\u001b[0;32m   2191\u001b[0m     \u001b[38;5;66;03m# force the figure dpi to 72), so we need to set it again here.\u001b[39;00m\n\u001b[0;32m   2192\u001b[0m     \u001b[38;5;28;01mwith\u001b[39;00m cbook\u001b[38;5;241m.\u001b[39m_setattr_cm(\u001b[38;5;28mself\u001b[39m\u001b[38;5;241m.\u001b[39mfigure, dpi\u001b[38;5;241m=\u001b[39mdpi):\n\u001b[1;32m-> 2193\u001b[0m         result \u001b[38;5;241m=\u001b[39m print_method(\n\u001b[0;32m   2194\u001b[0m             filename,\n\u001b[0;32m   2195\u001b[0m             facecolor\u001b[38;5;241m=\u001b[39mfacecolor,\n\u001b[0;32m   2196\u001b[0m             edgecolor\u001b[38;5;241m=\u001b[39medgecolor,\n\u001b[0;32m   2197\u001b[0m             orientation\u001b[38;5;241m=\u001b[39morientation,\n\u001b[0;32m   2198\u001b[0m             bbox_inches_restore\u001b[38;5;241m=\u001b[39m_bbox_inches_restore,\n\u001b[0;32m   2199\u001b[0m             \u001b[38;5;241m*\u001b[39m\u001b[38;5;241m*\u001b[39mkwargs)\n\u001b[0;32m   2200\u001b[0m \u001b[38;5;28;01mfinally\u001b[39;00m:\n\u001b[0;32m   2201\u001b[0m     \u001b[38;5;28;01mif\u001b[39;00m bbox_inches \u001b[38;5;129;01mand\u001b[39;00m restore_bbox:\n",
      "File \u001b[1;32mc:\\ProgramData\\anaconda3\\Lib\\site-packages\\matplotlib\\backend_bases.py:2043\u001b[0m, in \u001b[0;36mFigureCanvasBase._switch_canvas_and_return_print_method.<locals>.<lambda>\u001b[1;34m(*args, **kwargs)\u001b[0m\n\u001b[0;32m   2039\u001b[0m     optional_kws \u001b[38;5;241m=\u001b[39m {  \u001b[38;5;66;03m# Passed by print_figure for other renderers.\u001b[39;00m\n\u001b[0;32m   2040\u001b[0m         \u001b[38;5;124m\"\u001b[39m\u001b[38;5;124mdpi\u001b[39m\u001b[38;5;124m\"\u001b[39m, \u001b[38;5;124m\"\u001b[39m\u001b[38;5;124mfacecolor\u001b[39m\u001b[38;5;124m\"\u001b[39m, \u001b[38;5;124m\"\u001b[39m\u001b[38;5;124medgecolor\u001b[39m\u001b[38;5;124m\"\u001b[39m, \u001b[38;5;124m\"\u001b[39m\u001b[38;5;124morientation\u001b[39m\u001b[38;5;124m\"\u001b[39m,\n\u001b[0;32m   2041\u001b[0m         \u001b[38;5;124m\"\u001b[39m\u001b[38;5;124mbbox_inches_restore\u001b[39m\u001b[38;5;124m\"\u001b[39m}\n\u001b[0;32m   2042\u001b[0m     skip \u001b[38;5;241m=\u001b[39m optional_kws \u001b[38;5;241m-\u001b[39m {\u001b[38;5;241m*\u001b[39minspect\u001b[38;5;241m.\u001b[39msignature(meth)\u001b[38;5;241m.\u001b[39mparameters}\n\u001b[1;32m-> 2043\u001b[0m     print_method \u001b[38;5;241m=\u001b[39m functools\u001b[38;5;241m.\u001b[39mwraps(meth)(\u001b[38;5;28;01mlambda\u001b[39;00m \u001b[38;5;241m*\u001b[39margs, \u001b[38;5;241m*\u001b[39m\u001b[38;5;241m*\u001b[39mkwargs: meth(\n\u001b[0;32m   2044\u001b[0m         \u001b[38;5;241m*\u001b[39margs, \u001b[38;5;241m*\u001b[39m\u001b[38;5;241m*\u001b[39m{k: v \u001b[38;5;28;01mfor\u001b[39;00m k, v \u001b[38;5;129;01min\u001b[39;00m kwargs\u001b[38;5;241m.\u001b[39mitems() \u001b[38;5;28;01mif\u001b[39;00m k \u001b[38;5;129;01mnot\u001b[39;00m \u001b[38;5;129;01min\u001b[39;00m skip}))\n\u001b[0;32m   2045\u001b[0m \u001b[38;5;28;01melse\u001b[39;00m:  \u001b[38;5;66;03m# Let third-parties do as they see fit.\u001b[39;00m\n\u001b[0;32m   2046\u001b[0m     print_method \u001b[38;5;241m=\u001b[39m meth\n",
      "File \u001b[1;32mc:\\ProgramData\\anaconda3\\Lib\\site-packages\\matplotlib\\backends\\backend_agg.py:497\u001b[0m, in \u001b[0;36mFigureCanvasAgg.print_png\u001b[1;34m(self, filename_or_obj, metadata, pil_kwargs)\u001b[0m\n\u001b[0;32m    450\u001b[0m \u001b[38;5;28;01mdef\u001b[39;00m \u001b[38;5;21mprint_png\u001b[39m(\u001b[38;5;28mself\u001b[39m, filename_or_obj, \u001b[38;5;241m*\u001b[39m, metadata\u001b[38;5;241m=\u001b[39m\u001b[38;5;28;01mNone\u001b[39;00m, pil_kwargs\u001b[38;5;241m=\u001b[39m\u001b[38;5;28;01mNone\u001b[39;00m):\n\u001b[0;32m    451\u001b[0m \u001b[38;5;250m    \u001b[39m\u001b[38;5;124;03m\"\"\"\u001b[39;00m\n\u001b[0;32m    452\u001b[0m \u001b[38;5;124;03m    Write the figure to a PNG file.\u001b[39;00m\n\u001b[0;32m    453\u001b[0m \n\u001b[1;32m   (...)\u001b[0m\n\u001b[0;32m    495\u001b[0m \u001b[38;5;124;03m        *metadata*, including the default 'Software' key.\u001b[39;00m\n\u001b[0;32m    496\u001b[0m \u001b[38;5;124;03m    \"\"\"\u001b[39;00m\n\u001b[1;32m--> 497\u001b[0m     \u001b[38;5;28mself\u001b[39m\u001b[38;5;241m.\u001b[39m_print_pil(filename_or_obj, \u001b[38;5;124m\"\u001b[39m\u001b[38;5;124mpng\u001b[39m\u001b[38;5;124m\"\u001b[39m, pil_kwargs, metadata)\n",
      "File \u001b[1;32mc:\\ProgramData\\anaconda3\\Lib\\site-packages\\matplotlib\\backends\\backend_agg.py:446\u001b[0m, in \u001b[0;36mFigureCanvasAgg._print_pil\u001b[1;34m(self, filename_or_obj, fmt, pil_kwargs, metadata)\u001b[0m\n\u001b[0;32m    441\u001b[0m \u001b[38;5;250m\u001b[39m\u001b[38;5;124;03m\"\"\"\u001b[39;00m\n\u001b[0;32m    442\u001b[0m \u001b[38;5;124;03mDraw the canvas, then save it using `.image.imsave` (to which\u001b[39;00m\n\u001b[0;32m    443\u001b[0m \u001b[38;5;124;03m*pil_kwargs* and *metadata* are forwarded).\u001b[39;00m\n\u001b[0;32m    444\u001b[0m \u001b[38;5;124;03m\"\"\"\u001b[39;00m\n\u001b[0;32m    445\u001b[0m FigureCanvasAgg\u001b[38;5;241m.\u001b[39mdraw(\u001b[38;5;28mself\u001b[39m)\n\u001b[1;32m--> 446\u001b[0m mpl\u001b[38;5;241m.\u001b[39mimage\u001b[38;5;241m.\u001b[39mimsave(\n\u001b[0;32m    447\u001b[0m     filename_or_obj, \u001b[38;5;28mself\u001b[39m\u001b[38;5;241m.\u001b[39mbuffer_rgba(), \u001b[38;5;28mformat\u001b[39m\u001b[38;5;241m=\u001b[39mfmt, origin\u001b[38;5;241m=\u001b[39m\u001b[38;5;124m\"\u001b[39m\u001b[38;5;124mupper\u001b[39m\u001b[38;5;124m\"\u001b[39m,\n\u001b[0;32m    448\u001b[0m     dpi\u001b[38;5;241m=\u001b[39m\u001b[38;5;28mself\u001b[39m\u001b[38;5;241m.\u001b[39mfigure\u001b[38;5;241m.\u001b[39mdpi, metadata\u001b[38;5;241m=\u001b[39mmetadata, pil_kwargs\u001b[38;5;241m=\u001b[39mpil_kwargs)\n",
      "File \u001b[1;32mc:\\ProgramData\\anaconda3\\Lib\\site-packages\\matplotlib\\image.py:1656\u001b[0m, in \u001b[0;36mimsave\u001b[1;34m(fname, arr, vmin, vmax, cmap, format, origin, dpi, metadata, pil_kwargs)\u001b[0m\n\u001b[0;32m   1654\u001b[0m pil_kwargs\u001b[38;5;241m.\u001b[39msetdefault(\u001b[38;5;124m\"\u001b[39m\u001b[38;5;124mformat\u001b[39m\u001b[38;5;124m\"\u001b[39m, \u001b[38;5;28mformat\u001b[39m)\n\u001b[0;32m   1655\u001b[0m pil_kwargs\u001b[38;5;241m.\u001b[39msetdefault(\u001b[38;5;124m\"\u001b[39m\u001b[38;5;124mdpi\u001b[39m\u001b[38;5;124m\"\u001b[39m, (dpi, dpi))\n\u001b[1;32m-> 1656\u001b[0m image\u001b[38;5;241m.\u001b[39msave(fname, \u001b[38;5;241m*\u001b[39m\u001b[38;5;241m*\u001b[39mpil_kwargs)\n",
      "File \u001b[1;32mc:\\ProgramData\\anaconda3\\Lib\\site-packages\\PIL\\Image.py:2456\u001b[0m, in \u001b[0;36mImage.save\u001b[1;34m(self, fp, format, **params)\u001b[0m\n\u001b[0;32m   2454\u001b[0m         fp \u001b[38;5;241m=\u001b[39m builtins\u001b[38;5;241m.\u001b[39mopen(filename, \u001b[38;5;124m\"\u001b[39m\u001b[38;5;124mr+b\u001b[39m\u001b[38;5;124m\"\u001b[39m)\n\u001b[0;32m   2455\u001b[0m     \u001b[38;5;28;01melse\u001b[39;00m:\n\u001b[1;32m-> 2456\u001b[0m         fp \u001b[38;5;241m=\u001b[39m builtins\u001b[38;5;241m.\u001b[39mopen(filename, \u001b[38;5;124m\"\u001b[39m\u001b[38;5;124mw+b\u001b[39m\u001b[38;5;124m\"\u001b[39m)\n\u001b[0;32m   2458\u001b[0m \u001b[38;5;28;01mtry\u001b[39;00m:\n\u001b[0;32m   2459\u001b[0m     save_handler(\u001b[38;5;28mself\u001b[39m, fp, filename)\n",
      "\u001b[1;31mFileNotFoundError\u001b[0m: [Errno 2] No such file or directory: 'C:\\\\MEDS\\\\capstone\\\\industrialenergy_datainterface\\\\assets\\\\energy_savings_boxplot.png'"
     ]
    },
    {
     "data": {
      "image/png": "[encoded data removed]",
      "text/plain": [
       "<Figure size 800x600 with 1 Axes>"
      ]
     },
     "metadata": {},
     "output_type": "display_data"
    }
   ],
   "source": [
    "# Boxplot of conserved energy\n",
    "# on the recc table - use 'conserved' - energy. saved - dollars.\n",
    "sns.set_theme(style=\"white\")\n",
    "\n",
    "# Create the boxplot while ignoring outliers\n",
    "plt.figure(figsize=(8, 6))\n",
    "sns.boxplot(data=filtered_clean_df, x=\"conserved\", y=\"impstatus\", \n",
    "            width=0.2, \n",
    "            showfliers=False,\n",
    "            palette={\"N\": \"salmon\", \"I\": \"mediumseagreen\", \"K\": \"cornflowerblue\"}, hue='impstatus',\n",
    "            legend=False)\n",
    "\n",
    "# Customize plot\n",
    "plt.title(\"Comparison Energy Saved by Sector (Outliers Hidden)\")\n",
    "plt.xlabel(\"\")\n",
    "plt.ylabel(\"\")\n",
    "\n",
    "# Save the plot to an image file (e.g., PNG)\n",
    "plt.savefig(absolute_path_vis/'energy_savings_boxplot.png', format='png') \n",
    "\n",
    "plt.show()"
   ]
  },
  {
   "cell_type": "code",
   "execution_count": null,
   "id": "387faca6",
   "metadata": {},
   "outputs": [],
   "source": []
  }
 ],
 "metadata": {
  "kernelspec": {
   "display_name": "Python 3 (ipykernel)",
   "language": "python",
   "name": "python3"
  },
  "language_info": {
   "codemirror_mode": {
    "name": "ipython",
    "version": 3
   },
   "file_extension": ".py",
   "mimetype": "text/x-python",
   "name": "python",
   "nbconvert_exporter": "python",
   "pygments_lexer": "ipython3",
   "version": "3.12.4"
  }
 },
 "nbformat": 4,
 "nbformat_minor": 5
}
