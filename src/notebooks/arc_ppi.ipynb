{
 "cells": [
  {
   "cell_type": "code",
   "execution_count": null,
   "metadata": {},
   "outputs": [],
   "source": [
    "import pandas as pd\n",
    "from pathlib import Path\n",
    "import numpy as npq"
   ]
  },
  {
   "cell_type": "markdown",
   "metadata": {},
   "source": [
    "### Adjust impcost to current year value"
   ]
  },
  {
   "cell_type": "markdown",
   "metadata": {},
   "source": [
    "#### Import clean ppi and iac datasets "
   ]
  },
  {
   "cell_type": "code",
   "execution_count": null,
   "metadata": {},
   "outputs": [],
   "source": [
    "# ------- define paths -------\n",
    "relative_path = Path('../../data/intermediate_data/') # define relative path\n",
    "absolute_path = relative_path.resolve() # get absolute path\n",
    "# print(absolute_path)\n",
    "\n",
    "\n",
    "# ------- import data -------\n",
    "assess_df = pd.read_csv(absolute_path/'iac_assess_tidy.csv') # import IAC assess dataset\n",
    "recc_df = pd.read_csv(absolute_path/'iac_recc_tidy.csv') # import IAC recc dataset\n",
    "ppi_df = pd.read_csv(absolute_path/'ppi_tidy.csv') # import ppi dataset"
   ]
  },
  {
   "cell_type": "code",
   "execution_count": null,
   "metadata": {},
   "outputs": [],
   "source": [
    "# handle current year ppi data\n",
    "# e.g. if the current data is not released or updated in the dataset, use the data from the most recent year\n",
    "# set a reference_year\n",
    "reference_year = max(ppi_df['year'])\n",
    "\n",
    "# check which years are in PPI data\n",
    "ppi_years = set(ppi_df['year'])\n",
    "\n",
    "# Find the max FY in recc data\n",
    "max_fy = recc_df['fy'].max()\n",
    "\n",
    "# Create a new column that only adjusts the most recent year if needed\n",
    "recc_df['base_year'] = recc_df['fy'].apply(\n",
    "    lambda y: reference_year if y == max_fy and y not in ppi_years else y\n",
    ")"
   ]
  },
  {
   "cell_type": "code",
   "execution_count": null,
   "metadata": {},
   "outputs": [],
   "source": [
    "# merge the PPI dataframe with the RECC dataframe on the arc2 and year columns\n",
    "recc_ppi_df = pd.merge(ppi_df, recc_df[['arc2','superid', 'base_year', 'impcost' ,'fy']], \n",
    "        left_on=['arc2','year'],\n",
    "        right_on=['arc2','base_year'],\n",
    "        how='left'\n",
    "    )\n",
    "\n",
    "# drop unused columns\n",
    "recc_ppi_df = recc_ppi_df.dropna(subset=['superid', 'impcost'], how='all')\n",
    "recc_ppi_df = recc_ppi_df.dropna(subset=['impcost'], how='all') # exclude rows where impcost = NA\n",
    "recc_ppi_df.drop_duplicates(inplace = True)\n",
    "recc_ppi_df.drop(columns=['base_year'], inplace=True)\n",
    "recc_ppi_df['fy'] = recc_ppi_df['fy'].astype(int)\n",
    "\n",
    "recc_df.drop(columns=['base_year'], inplace=True)\n"
   ]
  },
  {
   "cell_type": "code",
   "execution_count": null,
   "metadata": {},
   "outputs": [],
   "source": [
    "print(recc_df.shape) # (652600, 19)\n",
    "print(recc_ppi_df.shape) # (103600, 10)"
   ]
  },
  {
   "cell_type": "code",
   "execution_count": null,
   "metadata": {},
   "outputs": [],
   "source": [
    "recc_ppi_df[recc_ppi_df['arc2']==2.3522]"
   ]
  },
  {
   "cell_type": "code",
   "execution_count": null,
   "metadata": {},
   "outputs": [],
   "source": [
    "recc_ppi_df[recc_ppi_df['fy']==2025].head(5)"
   ]
  },
  {
   "cell_type": "code",
   "execution_count": null,
   "metadata": {},
   "outputs": [],
   "source": [
    "recc_df[recc_df['arc2']==2.7142]"
   ]
  },
  {
   "cell_type": "markdown",
   "metadata": {},
   "source": [
    "## Calculate adjusted implementation cost based on the current reference year"
   ]
  },
  {
   "cell_type": "code",
   "execution_count": null,
   "metadata": {},
   "outputs": [],
   "source": [
    "# create a dataframe with ppi values in a reference year\n",
    "ppi_ref_year_df = ppi_df[ppi_df['year']==reference_year] \n",
    "ppi_ref_year_df = ppi_ref_year_df[['arc2', 'year', 'ppi']].rename(columns={'year': 'reference_year', 'ppi': 'reference_ppi'})\n",
    "\n",
    "# add reference_year and reference year ppi values to recc_ppi_df\n",
    "recc_ppi_df = pd.merge(recc_ppi_df,ppi_ref_year_df[['arc2','reference_year','reference_ppi']],\n",
    "                       on='arc2',\n",
    "                       how='left')\n",
    "\n",
    "# calculate impcost in a reference_year\n",
    "recc_ppi_df['impcost_adj'] = recc_ppi_df['impcost'] * (recc_ppi_df['reference_ppi'] / recc_ppi_df['ppi']).round(2)"
   ]
  },
  {
   "cell_type": "code",
   "execution_count": null,
   "metadata": {},
   "outputs": [],
   "source": [
    "ppi_ref_year_df[ppi_ref_year_df['arc2']==2.3522]"
   ]
  },
  {
   "cell_type": "code",
   "execution_count": null,
   "metadata": {},
   "outputs": [],
   "source": [
    "recc_ppi_df[recc_ppi_df['superid']=='ME013208']"
   ]
  },
  {
   "cell_type": "code",
   "execution_count": null,
   "metadata": {},
   "outputs": [],
   "source": [
    "recc_df[recc_df['superid']=='ME013208']"
   ]
  },
  {
   "cell_type": "code",
   "execution_count": null,
   "metadata": {},
   "outputs": [],
   "source": [
    "print(f\"recc_df: {recc_df.columns}\\n\")\n",
    "print(f\"recc_ppi_df: {recc_ppi_df.columns}\")"
   ]
  },
  {
   "cell_type": "code",
   "execution_count": null,
   "metadata": {},
   "outputs": [],
   "source": [
    "# integrate adjusted impcost into recc dataset\n",
    "recc_df = pd.merge(recc_df,recc_ppi_df[['superid', 'description', 'reference_year', 'reference_ppi', 'impcost_adj']],\n",
    "                   on='superid',\n",
    "                   how='left')\n",
    "\n",
    "# move impcost_adj column after impcost column\n",
    "index = recc_df.columns.get_loc('impcost') + 1\n",
    "recc_df.insert(index, 'impcost_adj', recc_df.pop('impcost_adj'))\n",
    "\n",
    "# move description column after ID column\n",
    "index = recc_df.columns.get_loc('id') + 1\n",
    "recc_df.insert(index, 'description', recc_df.pop('description'))"
   ]
  },
  {
   "cell_type": "code",
   "execution_count": null,
   "metadata": {},
   "outputs": [],
   "source": [
    "recc_df['impcost_adj'] = pd.to_numeric(recc_df['impcost_adj'], errors='coerce').round(4)"
   ]
  },
  {
   "cell_type": "code",
   "execution_count": null,
   "metadata": {},
   "outputs": [],
   "source": [
    "# test\n",
    "recc_OR052903 = recc_df[recc_df['superid']=='OR052903']\n",
    "print(recc_OR052903['superid'].count()) # expected 4 rows\n",
    "\n",
    "recc_2_1111 = recc_df[recc_df['arc2']==2.1111]\n",
    "print(recc_2_1111['arc2'].count()) # expected 76 rows"
   ]
  },
  {
   "cell_type": "code",
   "execution_count": null,
   "metadata": {},
   "outputs": [],
   "source": [
    "recc_df[recc_df['arc2']==2.8114]"
   ]
  },
  {
   "cell_type": "code",
   "execution_count": null,
   "metadata": {},
   "outputs": [],
   "source": [
    "recc_ppi_df[recc_ppi_df['superid']=='AM043901']\n",
    "recc_ppi_df[recc_ppi_df['superid']=='SF053207']\n",
    "\n",
    "recc_df[recc_df['description'] == 'REPLACE BOILER']"
   ]
  },
  {
   "cell_type": "code",
   "execution_count": null,
   "metadata": {},
   "outputs": [],
   "source": [
    "# save integrated dataset\n",
    "recc_df.to_csv(\"../../data/intermediate_data/recc_integrated_ppi.csv\", index=False)\n"
   ]
  }
 ],
 "metadata": {
  "kernelspec": {
   "display_name": "eds220-env",
   "language": "python",
   "name": "python3"
  },
  "language_info": {
   "codemirror_mode": {
    "name": "ipython",
    "version": 3
   },
   "file_extension": ".py",
   "mimetype": "text/x-python",
   "name": "python",
   "nbconvert_exporter": "python",
   "pygments_lexer": "ipython3",
   "version": "3.11.4"
  }
 },
 "nbformat": 4,
 "nbformat_minor": 4
}
