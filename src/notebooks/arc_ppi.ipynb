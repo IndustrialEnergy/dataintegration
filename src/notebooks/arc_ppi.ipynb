{
 "cells": [
  {
   "cell_type": "code",
   "execution_count": null,
   "metadata": {},
   "outputs": [],
   "source": [
    "import pandas as pd\n",
    "from pathlib import Path\n",
    "import numpy as npq"
   ]
  },
  {
   "cell_type": "markdown",
   "metadata": {},
   "source": [
    "### Adjust impcost to current year value"
   ]
  },
  {
   "cell_type": "markdown",
   "metadata": {},
   "source": [
    "#### Import clean ppi and iac datasets "
   ]
  },
  {
   "cell_type": "code",
   "execution_count": null,
   "metadata": {},
   "outputs": [],
   "source": [
    "# ------- define paths -------\n",
    "relative_path = Path('../../data/intermediate_data/') # define relative path\n",
    "absolute_path = relative_path.resolve() # get absolute path\n",
    "# print(absolute_path)\n",
    "\n",
    "\n",
    "# ------- import data -------\n",
    "assess_df = pd.read_csv(absolute_path/'iac_assess_tidy.csv') # import IAC assess dataset\n",
    "recc_df = pd.read_csv(absolute_path/'iac_recc_tidy.csv') # import IAC recc dataset\n",
    "ppi_df = pd.read_csv(absolute_path/'ppi_tidy.csv') # import ppi dataset"
   ]
  },
  {
   "cell_type": "code",
   "execution_count": null,
   "metadata": {},
   "outputs": [],
   "source": [
    "# merge the PPI dataframe with the RECC dataframe on the arc2 and year columns\n",
    "recc_ppi_df = pd.merge(ppi_df, recc_df[['arc2', 'superid', 'fy', 'impcost']], \n",
    "        left_on=['arc2','year'],\n",
    "        right_on=['arc2','fy'],\n",
    "        how='left'\n",
    "    )\n",
    "\n",
    "# drop unused columns\n",
    "recc_ppi_df = recc_ppi_df.dropna(subset=['superid', 'fy','impcost'], how='all')\n",
    "recc_ppi_df = recc_ppi_df.dropna(subset=['impcost'], how='all') # exclude rows where impcost = NA\n",
    "recc_ppi_df.drop_duplicates(inplace = True)\n",
    "recc_ppi_df.drop(columns=['fy'], inplace=True)\n"
   ]
  },
  {
   "cell_type": "code",
   "execution_count": null,
   "metadata": {},
   "outputs": [],
   "source": [
    "# test\n",
    "filtered = recc_ppi_df[recc_ppi_df['arc2']==2.1111]\n",
    "print(filtered.count()) # should be 9 rows\n",
    "filtered"
   ]
  },
  {
   "cell_type": "markdown",
   "metadata": {},
   "source": [
    "## Calculate adjusted implementation cost based on the current reference year"
   ]
  },
  {
   "cell_type": "code",
   "execution_count": null,
   "metadata": {},
   "outputs": [],
   "source": [
    "# set a reference_year\n",
    "reference_year = max(ppi_df['year'])\n",
    "\n",
    "# create a dataframe with ppi values in a reference year\n",
    "ppi_ref_year_df = ppi_df[ppi_df['year']==2018] # <UPDATE: when PPI values are collected>\n",
    "ppi_ref_year_df = ppi_ref_year_df[['arc2', 'year', 'ppi']].rename(columns={'year': 'reference_year', 'ppi': 'reference_ppi'})\n",
    "\n",
    "# add reference_year and reference year ppi values to recc_ppi_df\n",
    "recc_ppi_df = pd.merge(recc_ppi_df,ppi_ref_year_df[['arc2','reference_year','reference_ppi']],\n",
    "                       on='arc2',\n",
    "                       how='left')\n",
    "\n",
    "# calculate impcost in a reference_year\n",
    "recc_ppi_df['ref_year_impcost'] = recc_ppi_df['impcost'] * (recc_ppi_df['reference_ppi'] / recc_ppi_df['ppi'])"
   ]
  },
  {
   "cell_type": "code",
   "execution_count": null,
   "metadata": {},
   "outputs": [],
   "source": [
    "# test\n",
    "filtered = recc_ppi_df[recc_ppi_df['arc2']==2.1111]\n",
    "print(filtered['arc2'].count()) # should be 9 rows\n",
    "filtered"
   ]
  },
  {
   "cell_type": "code",
   "execution_count": null,
   "metadata": {},
   "outputs": [],
   "source": [
    "# integrate adjusted impcost into recc dataset\n",
    "recc_df = pd.merge(recc_df,recc_ppi_df[['superid', 'description', 'reference_year', 'reference_ppi','ref_year_impcost']],\n",
    "                   on='superid',\n",
    "                   how='left')\n",
    "\n",
    "# move ref_year_impcost column after impcost column\n",
    "index = recc_df.columns.get_loc('impcost') + 1\n",
    "recc_df.insert(index, 'ref_year_impcost', recc_df.pop('ref_year_impcost'))\n",
    "\n",
    "# move description column after ID column\n",
    "index = recc_df.columns.get_loc('id') + 1\n",
    "recc_df.insert(index, 'description', recc_df.pop('description'))"
   ]
  },
  {
   "cell_type": "code",
   "execution_count": null,
   "metadata": {},
   "outputs": [],
   "source": [
    "# test\n",
    "recc_OR052903 = recc_df[recc_df['superid']=='OR052903']\n",
    "print(recc_OR052903['superid'].count()) # expected 4 rows\n",
    "\n",
    "recc_2_1111 = recc_df[recc_df['arc2']==2.1111]\n",
    "print(recc_2_1111['arc2'].count()) # expected 76 rows"
   ]
  },
  {
   "cell_type": "code",
   "execution_count": null,
   "metadata": {},
   "outputs": [],
   "source": [
    "recc_ppi_df[recc_ppi_df['superid']=='AM043901']\n",
    "recc_ppi_df[recc_ppi_df['superid']=='SF053207']\n",
    "\n",
    "recc_df[recc_df['description'] == 'REPLACE BOILER']"
   ]
  },
  {
   "cell_type": "code",
   "execution_count": null,
   "metadata": {},
   "outputs": [],
   "source": [
    "# save integrated dataset\n",
    "recc_df.to_csv(\"../../data/intermediate_data/recc_integrated_ppi.csv\", index=False)\n"
   ]
  }
 ],
 "metadata": {
  "kernelspec": {
   "display_name": "eds220-env",
   "language": "python",
   "name": "python3"
  },
  "language_info": {
   "codemirror_mode": {
    "name": "ipython",
    "version": 3
   },
   "file_extension": ".py",
   "mimetype": "text/x-python",
   "name": "python",
   "nbconvert_exporter": "python",
   "pygments_lexer": "ipython3",
   "version": "3.11.4"
  }
 },
 "nbformat": 4,
 "nbformat_minor": 4
}
