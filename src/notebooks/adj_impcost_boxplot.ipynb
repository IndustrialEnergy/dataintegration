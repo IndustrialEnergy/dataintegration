{
 "cells": [
  {
   "cell_type": "markdown",
   "metadata": {},
   "source": [
    "# Create a boxplot for ARC implementation Cost and Payback distribution \n",
    "\n",
    "### Filters:\n",
    "* Sector = Food Manufacturing (NAICS code = 311*)\n",
    "* Period = 2014 - 2024 (last 10 years)\n",
    "* Implemented vs Not Implemented\n",
    "* ARCs = TBD\n",
    "* State = CA and AZ"
   ]
  },
  {
   "cell_type": "markdown",
   "metadata": {},
   "source": [
    "## Implementation Cost Distribution Boxplot\n",
    "\n",
    "Attribute: 'IMPCOST'\n",
    "\n"
   ]
  },
  {
   "cell_type": "markdown",
   "metadata": {},
   "source": [
    "### Notebook generates the following boxplot:"
   ]
  },
  {
   "cell_type": "code",
   "execution_count": null,
   "metadata": {},
   "outputs": [],
   "source": [
    "from IPython.display import Image\n",
    "\n",
    "image_path = '../assets/impcost_boxplot_aggregate.png'\n",
    "\n",
    "# Display the image\n",
    "Image(image_path)"
   ]
  },
  {
   "cell_type": "code",
   "execution_count": null,
   "metadata": {},
   "outputs": [],
   "source": [
    "# Import libraries\n",
    "import pandas as pd\n",
    "from pathlib import Path\n",
    "import seaborn as sns\n",
    "import matplotlib.pyplot as plt\n",
    "import matplotlib.ticker as mticker\n",
    "import numpy as np\n",
    "import janitor\n",
    "from janitor import clean_names"
   ]
  },
  {
   "cell_type": "code",
   "execution_count": null,
   "metadata": {},
   "outputs": [],
   "source": [
    "# Import datasets\n",
    "\n",
    "# ------- define paths -------\n",
    "relative_path = Path('../../data/intermediate_data/') # define relative path\n",
    "absolute_path = relative_path.resolve() # get absolute path\n",
    "\n",
    "\n",
    "# ------- import data -------\n",
    "assess_df = pd.read_csv(absolute_path/'iac_assess_tidy.csv') # import IAC assess dataset\n",
    "recc_integrated_ppi_df = pd.read_csv(absolute_path/'recc_integrated_ppi.csv') # import an integrated recc dataset with adjusted impcost"
   ]
  },
  {
   "cell_type": "code",
   "execution_count": null,
   "metadata": {},
   "outputs": [],
   "source": [
    "assess_df = assess_df.clean_names()"
   ]
  },
  {
   "cell_type": "code",
   "execution_count": null,
   "metadata": {},
   "outputs": [],
   "source": [
    "# Add Sector and State attributes to recc_integrated_ppi_df from assess_df\n",
    "integrated_ppi_df = pd.merge(recc_integrated_ppi_df, assess_df[['state','naics','id']],\n",
    "                                  on='id',\n",
    "                                  how='left')\n",
    "\n",
    "integrated_ppi_df.drop_duplicates(inplace = True)"
   ]
  },
  {
   "cell_type": "code",
   "execution_count": null,
   "metadata": {},
   "outputs": [],
   "source": [
    "# get arcs2 for sector = 311 (food production)\n",
    "recc_integrated_ppi_311_df = integrated_ppi_df[integrated_ppi_df['naics'].astype(str).str.startswith('311')]\n",
    "\n",
    "recc_integrated_ppi_311_df[recc_integrated_ppi_311_df['superid']=='AM043901']\n",
    "recc_integrated_ppi_311_df[recc_integrated_ppi_311_df['id']=='AM0439']\n",
    "\n",
    "recc_integrated_ppi_311_df['arc2'].unique()[:15]"
   ]
  },
  {
   "cell_type": "code",
   "execution_count": null,
   "metadata": {},
   "outputs": [],
   "source": [
    "# set filters\n",
    "arc2_filter = [2.1224]\n",
    "sector_filter = '311'\n",
    "period_filter_from = 2010\n",
    "period_filter_to = 2024"
   ]
  },
  {
   "cell_type": "code",
   "execution_count": null,
   "metadata": {},
   "outputs": [],
   "source": [
    "# create a filtered df for the plot\n",
    "filtered_df = integrated_ppi_df[\n",
    "    (integrated_ppi_df['naics'].astype(str).str.startswith(sector_filter)) &\n",
    "    (integrated_ppi_df['arc2'].isin(arc2_filter)) &\n",
    "    (integrated_ppi_df['fy'] >= period_filter_from) &\n",
    "    (integrated_ppi_df['fy'] <= period_filter_to)\n",
    "]"
   ]
  },
  {
   "cell_type": "code",
   "execution_count": null,
   "metadata": {},
   "outputs": [],
   "source": [
    "# <remove> when PPI values are updated for all ARCs\n",
    "# drop rows where IMPCOST is NA\n",
    "filtered_clean_df = filtered_df.dropna(subset=['ref_year_impcost'])"
   ]
  },
  {
   "cell_type": "code",
   "execution_count": null,
   "metadata": {},
   "outputs": [],
   "source": [
    "# test\n",
    "# <remove> when PPI values are updated for all ARCs\n",
    "filtered_clean_df[filtered_clean_df['superid']=='AM057403']"
   ]
  },
  {
   "cell_type": "code",
   "execution_count": null,
   "metadata": {},
   "outputs": [],
   "source": [
    "# test that filters values are correct\n",
    "print(\"Unique values in arc2:\", filtered_df['arc2'].unique())\n",
    "print(\"Unique values in arc2:\", filtered_df['fy'].unique())\n",
    "print(len(filtered_df['arc2'].unique()))\n",
    "\n",
    "filtered_df.head()"
   ]
  },
  {
   "cell_type": "markdown",
   "metadata": {},
   "source": [
    "Managing Outliers for Better Visualization \n",
    "Method: set showfliers=False in the sns.boxplot. This allows keeping all data in a dataframe while hiding the outliers on a chart.\n",
    "Seaborn uses Interquartile Range (IQR) Rule to determine outliers:\n",
    "\n",
    "Outlier Calculation Using IQR:\n",
    "\n",
    "First Quartile (Q1) = 25th percentile\n",
    "Third Quartile (Q3) = 75th percentile\n",
    "Interquartile Range (IQR) = Q3 - Q1\n",
    "Outliers are defined as any values:\n",
    "Below: Q1 - 1.5 × IQR\n",
    "Above: Q3 + 1.5 × IQR"
   ]
  },
  {
   "cell_type": "code",
   "execution_count": null,
   "metadata": {},
   "outputs": [],
   "source": [
    "# calculate the outliers\n",
    "\n",
    "# Compute Q1, Q3, and IQR\n",
    "Q1 = filtered_clean_df[\"ref_year_impcost\"].quantile(0.25)\n",
    "Q3 = filtered_clean_df[\"ref_year_impcost\"].quantile(0.75)\n",
    "IQR = Q3 - Q1\n",
    "\n",
    "# Define outlier thresholds\n",
    "lower_bound = Q1 - 1.5 * IQR\n",
    "upper_bound = Q3 + 1.5 * IQR\n",
    "\n",
    "# Identify outliers\n",
    "outliers = filtered_clean_df[(filtered_clean_df[\"ref_year_impcost\"] < lower_bound) | (filtered_clean_df[\"ref_year_impcost\"] > upper_bound)]\n",
    "\n",
    "# Display outliers\n",
    "print(outliers[[\"impstatus\", \"ref_year_impcost\"]])"
   ]
  },
  {
   "cell_type": "code",
   "execution_count": null,
   "metadata": {},
   "outputs": [],
   "source": [
    "# Define a path to save visualizations\n",
    "\n",
    "# Define relative path\n",
    "relative_path_vis = Path('../assets/')\n",
    "absolute_path_vis = relative_path_vis.resolve() # get absolute path"
   ]
  },
  {
   "cell_type": "code",
   "execution_count": null,
   "metadata": {},
   "outputs": [],
   "source": [
    "sns.set_theme(style=\"white\")\n",
    "plt.figure(figsize=(8, 6))\n",
    "\n",
    "# Filter data\n",
    "not_implemented = filtered_clean_df[filtered_clean_df[\"impstatus\"] == \"N\"]\n",
    "implemented = filtered_clean_df[filtered_clean_df[\"impstatus\"] == \"I\"]\n",
    "\n",
    "# Create boxplots separately with different properties\n",
    "ax = sns.boxplot(data=not_implemented, x=[\"Not Implemented\"]*len(not_implemented), \n",
    "                y=\"ref_year_impcost\", width=0.4, showfliers=False,\n",
    "                boxprops={'edgecolor': '#C44E52', 'facecolor': 'r', 'alpha': 0.6},\n",
    "                medianprops={'color': '#C44E52', 'linewidth': 2},\n",
    "                whiskerprops={'color': '#C44E52', 'linewidth': 1.5},\n",
    "                capprops={'color': '#C44E52', 'linewidth': 1.5})\n",
    "\n",
    "sns.boxplot(data=implemented, x=[\"Implemented\"]*len(implemented), \n",
    "            y=\"ref_year_impcost\", width=0.4, showfliers=False,\n",
    "            boxprops={'edgecolor': '#376A3E', 'facecolor': '#376A3E', 'alpha': 0.6},\n",
    "            medianprops={'color': '#376A3E', 'linewidth': 2},\n",
    "            whiskerprops={'color': '#376A3E', 'linewidth': 1.5},\n",
    "            capprops={'color': '#376A3E', 'linewidth': 1.5},\n",
    "            ax=ax)\n",
    "\n",
    "# Format y-axis with commas\n",
    "ax.yaxis.set_major_formatter(mticker.FuncFormatter(lambda x, _: f'{x:,.0f}'))\n",
    "\n",
    "# Adjust titles and labels\n",
    "plt.title(\"Comparison of Implementation Cost by Status\", fontsize=16)\n",
    "plt.xlabel(\"Status\", fontsize=14)\n",
    "plt.ylabel(\"Implementation Cost, US Dollars (2024 Adjusted)\", fontsize=14)\n",
    "plt.xticks(fontsize=14)\n",
    "plt.yticks(fontsize=14)\n",
    "\n",
    "# Save the plot to an image file (e.g., PNG)\n",
    "plt.savefig(absolute_path_vis/'impcost_boxplot_aggregate.png', format='png') \n",
    "\n",
    "plt.show()"
   ]
  },
  {
   "cell_type": "code",
   "execution_count": null,
   "metadata": {},
   "outputs": [],
   "source": [
    "filtered_clean_df"
   ]
  },
  {
   "cell_type": "markdown",
   "metadata": {},
   "source": [
    "## Payback Distribution Boxplot"
   ]
  },
  {
   "cell_type": "code",
   "execution_count": null,
   "metadata": {},
   "outputs": [],
   "source": [
    "sns.set_theme(style=\"white\")\n",
    "plt.figure(figsize=(8, 6))\n",
    "\n",
    "# Filter data\n",
    "not_implemented = filtered_clean_df[filtered_clean_df[\"impstatus\"] == \"N\"]\n",
    "implemented = filtered_clean_df[filtered_clean_df[\"impstatus\"] == \"I\"]\n",
    "\n",
    "# Create boxplots separately with different properties\n",
    "ax = sns.boxplot(data=not_implemented, x=[\"Not Implemented\"]*len(not_implemented), \n",
    "                y=\"payback\", width=0.4, showfliers=False,\n",
    "                boxprops={'edgecolor': '#C44E52', 'facecolor': 'r', 'alpha': 0.6},\n",
    "                medianprops={'color': '#C44E52', 'linewidth': 2},\n",
    "                whiskerprops={'color': '#C44E52', 'linewidth': 1.5},\n",
    "                capprops={'color': '#C44E52', 'linewidth': 1.5})\n",
    "\n",
    "sns.boxplot(data=implemented, x=[\"Implemented\"]*len(implemented), \n",
    "            y=\"payback\", width=0.4, showfliers=False,\n",
    "            boxprops={'edgecolor': '#376A3E', 'facecolor': '#376A3E', 'alpha': 0.6},\n",
    "            medianprops={'color': '#376A3E', 'linewidth': 2},\n",
    "            whiskerprops={'color': '#376A3E', 'linewidth': 1.5},\n",
    "            capprops={'color': '#376A3E', 'linewidth': 1.5},\n",
    "            ax=ax)\n",
    "\n",
    "# Format y-axis with commas\n",
    "ax.yaxis.set_major_formatter(mticker.FuncFormatter(lambda x, _: f'{x:,.0f}'))\n",
    "\n",
    "# Adjust titles and labels\n",
    "plt.title(\"Payback Period Distribution by Status\", fontsize=16)\n",
    "plt.xlabel(\"Status\", fontsize=14)\n",
    "plt.ylabel(\"Payback Period, Years\", fontsize=14)\n",
    "plt.xticks(fontsize=14)\n",
    "plt.yticks(fontsize=14)\n",
    "\n",
    "# Save the plot to an image file (e.g., PNG)\n",
    "plt.savefig(absolute_path_vis/'payback_boxplot_aggregate.png', format='png') \n",
    "\n",
    "plt.show()"
   ]
  },
  {
   "cell_type": "code",
   "execution_count": null,
   "metadata": {},
   "outputs": [],
   "source": [
    "sns.set_theme(style=\"white\")\n",
    "\n",
    "# Create the boxplot while ignoring outliers\n",
    "plt.figure(figsize=(8, 6))\n",
    "sns.boxplot(data=filtered_clean_df, x=\"impstatus\", y=\"ref_year_impcost\", \n",
    "            width=0.2, \n",
    "            showfliers=False,\n",
    "            palette={\"N\": \"darkred\", \"I\": \"darkblue\"}, hue=\"impstatus\",\n",
    "            legend=False)\n",
    "\n",
    "# filter outliers for jitter plot\n",
    "filtered_clean_df_no_outliers = filtered_clean_df[(filtered_clean_df['ref_year_impcost'] >= lower_bound) &\n",
    "                                                  (filtered_clean_df['ref_year_impcost'] <= upper_bound)]\n",
    "\n",
    "# Scatter plot (stripplot) to show individual points\n",
    "sns.stripplot(data=filtered_clean_df_no_outliers, x=\"impstatus\", y=\"ref_year_impcost\", \n",
    "              palette={\"N\": \"red\", \"I\": \"darkgreen\"}, hue=\"impstatus\",\n",
    "              jitter=True, alpha=0.5, size=3,\n",
    "              legend=False)\n",
    "\n",
    "# Customize plot\n",
    "plt.title(\"Comparison of Implementation Cost by Status (Outliers Hidden)\")\n",
    "plt.xlabel(\"Impstatus (N = Not implemented, I = Implemented)\")\n",
    "plt.ylabel(\"Implementation Cost, US Dollars (2024 Adjusted)\")\n",
    "plt.show()"
   ]
  },
  {
   "cell_type": "code",
   "execution_count": null,
   "metadata": {},
   "outputs": [],
   "source": [
    "sns.set_theme(style=\"dark\")\n",
    "\n",
    "# Impcost per year\n",
    "plt.figure(figsize=(12, 6)) \n",
    "sns.boxplot(data=filtered_clean_df, x=\"fy\", y=\"ref_year_impcost\", hue=\"impstatus\", \n",
    "            width=0.6, palette={\"N\": \"darkred\", \"I\": \"darkblue\"},\n",
    "            showfliers=False,\n",
    "            medianprops={'color': 'white', 'linewidth': 1})\n",
    "\n",
    "# filter outliers for jitter plot\n",
    "filtered_clean_df_no_outliers = filtered_clean_df[(filtered_clean_df['ref_year_impcost'] >= lower_bound) &\n",
    "                                                  (filtered_clean_df['ref_year_impcost'] <= upper_bound)]\n",
    "\n",
    "plt.title(\"Comparison of Implementation Costs by Status and Year\", fontsize=16)\n",
    "plt.xlabel(\"Fiscal Year\", fontsize=14)\n",
    "plt.ylabel(\"Implementation Cost, US Dollars (2024 Adjusted)\", fontsize=14)\n",
    "plt.legend(title=\"Implementation Status\")\n",
    "plt.xticks(fontsize=14)\n",
    "plt.yticks(fontsize=14)\n",
    "\n",
    "# Rename legend labels\n",
    "legend_labels = {\"N\": \"Not Implemented\", \"I\": \"Implemented\"}\n",
    "handles, labels = plt.gca().get_legend_handles_labels()  # Get existing legend handles\n",
    "plt.legend(handles[:2], [legend_labels[label] for label in labels[:2]], title=\"Implementation Status\",  fontsize=12)\n",
    "\n",
    "# Save the plot to an image file (e.g., PNG)\n",
    "plt.savefig(absolute_path_vis/'impcost_boxplot_by_year.png', format='png') \n",
    "\n",
    "plt.show()"
   ]
  },
  {
   "cell_type": "markdown",
   "metadata": {},
   "source": [
    "## Boxplots for a dashboard prototype\n",
    "Note: plots use demo data "
   ]
  },
  {
   "cell_type": "code",
   "execution_count": null,
   "metadata": {},
   "outputs": [],
   "source": [
    "# Mockup\n",
    "\n",
    "# Import datasets\n",
    "\n",
    "# ------- define paths -------\n",
    "relative_path = Path('../data/intermediate_data/') # define relative path\n",
    "absolute_path = relative_path.resolve() # get absolute path\n",
    "\n",
    "\n",
    "# ------- import data -------\n",
    "mockup_ppi_df = pd.read_csv(absolute_path/'iac_integrated_mockupv2.csv') # import IAC assess dataset"
   ]
  },
  {
   "cell_type": "code",
   "execution_count": null,
   "metadata": {},
   "outputs": [],
   "source": [
    "mockup_ppi_df"
   ]
  },
  {
   "cell_type": "code",
   "execution_count": null,
   "metadata": {},
   "outputs": [],
   "source": [
    "print(mockup_ppi_df[\" adjusted_impcost \"].describe())\n",
    "\n",
    "print(\"\\nNot Implemented Costs:\")\n",
    "print(mockup_ppi_df[mockup_ppi_df[\"impstatus\"] == \"N\"][\" adjusted_impcost \"])\n",
    "\n",
    "print(\"\\nImplemented Costs:\")\n",
    "print(mockup_ppi_df[mockup_ppi_df[\"impstatus\"] == \"I\"][\" adjusted_impcost \"])"
   ]
  },
  {
   "cell_type": "markdown",
   "metadata": {},
   "source": [
    "## Implementation Cost Distribution Boxplot"
   ]
  },
  {
   "cell_type": "code",
   "execution_count": null,
   "metadata": {},
   "outputs": [],
   "source": [
    "sns.set_theme(style=\"white\")\n",
    "plt.figure(figsize=(8, 6))\n",
    "\n",
    "# Clean and convert the column to numeric\n",
    "def convert_to_numeric(value):\n",
    "    return float(value.replace(',', ''))\n",
    "\n",
    "# Apply conversion to the column\n",
    "mockup_ppi_df['adjusted_impcost'] = mockup_ppi_df[\" adjusted_impcost \"].apply(convert_to_numeric)\n",
    "\n",
    "# Filter data\n",
    "not_implemented = mockup_ppi_df[mockup_ppi_df[\"impstatus\"] == \"N\"]\n",
    "implemented = mockup_ppi_df[mockup_ppi_df[\"impstatus\"] == \"I\"]\n",
    "\n",
    "# Create boxplots separately with different properties\n",
    "ax = sns.boxplot(data=not_implemented, x=[\"Not Implemented\"]*len(not_implemented), \n",
    "                y=\" adjusted_impcost \", width=0.4, showfliers=False,\n",
    "                boxprops={'edgecolor': '#C44E52', 'facecolor': 'r', 'alpha': 0.6},\n",
    "                medianprops={'color': '#C44E52', 'linewidth': 2},\n",
    "                whiskerprops={'color': '#C44E52', 'linewidth': 1.5},\n",
    "                capprops={'color': '#C44E52', 'linewidth': 1.5})\n",
    "\n",
    "sns.boxplot(data=implemented, x=[\"Implemented\"]*len(implemented), \n",
    "            y=\" adjusted_impcost \", width=0.4, showfliers=False,\n",
    "            boxprops={'edgecolor': '#376A3E', 'facecolor': '#376A3E', 'alpha': 0.6},\n",
    "            medianprops={'color': '#376A3E', 'linewidth': 2},\n",
    "            whiskerprops={'color': '#376A3E', 'linewidth': 1.5},\n",
    "            capprops={'color': '#376A3E', 'linewidth': 1.5},\n",
    "            ax=ax)\n",
    "\n",
    "# Format y-axis with commas\n",
    "#ax.yaxis.set_major_formatter(mticker.FuncFormatter(lambda x, _: f'{x:,f}'))\n",
    "\n",
    "# Adjust titles and labels\n",
    "plt.title(\"Comparison of Implementation Cost by Status\", fontsize=16)\n",
    "plt.xlabel(\"Status\", fontsize=14)\n",
    "plt.ylabel(\"Implementation Cost, US Dollars (2024 Adjusted)\", fontsize=14)\n",
    "plt.xticks(fontsize=14)\n",
    "plt.yticks(fontsize=14)\n",
    "\n",
    "# Save the plot to an image file (e.g., PNG)\n",
    "plt.savefig(absolute_path_vis/'impcost_boxplot_aggregate.png', format='png') \n",
    "\n",
    "plt.show()"
   ]
  },
  {
   "cell_type": "code",
   "execution_count": null,
   "metadata": {},
   "outputs": [],
   "source": [
    "import seaborn as sns\n",
    "import matplotlib.pyplot as plt\n",
    "import matplotlib.ticker as mticker\n",
    "import pandas as pd\n",
    "\n",
    "sns.set_theme(style=\"white\")\n",
    "plt.figure(figsize=(8, 6))\n",
    "\n",
    "# Clean and convert the column to numeric\n",
    "def convert_to_numeric(value):\n",
    "    return float(value.replace(',', ''))\n",
    "\n",
    "# Apply conversion to the column\n",
    "mockup_ppi_df['adjusted_impcost'] = mockup_ppi_df[\" adjusted_impcost \"].apply(convert_to_numeric)\n",
    "\n",
    "# Filter data\n",
    "not_implemented = mockup_ppi_df[mockup_ppi_df[\"impstatus\"] == \"N\"]\n",
    "implemented = mockup_ppi_df[mockup_ppi_df[\"impstatus\"] == \"I\"]\n",
    "\n",
    "# Create boxplots separately\n",
    "ax = sns.boxplot(data=not_implemented, \n",
    "                 x=[\"Not Implemented\"]*len(not_implemented),\n",
    "                 y=\"adjusted_impcost\", \n",
    "                 width=0.4, \n",
    "                 showfliers=False,\n",
    "                 boxprops={'edgecolor': '#C44E52', 'facecolor': 'r', 'alpha': 0.6},\n",
    "                 medianprops={'color': '#C44E52', 'linewidth': 2},\n",
    "                 whiskerprops={'color': '#C44E52', 'linewidth': 1.5},\n",
    "                 capprops={'color': '#C44E52', 'linewidth': 1.5})\n",
    "\n",
    "sns.boxplot(data=implemented, \n",
    "            x=[\"Implemented\"]*len(implemented),\n",
    "            y=\"adjusted_impcost\", \n",
    "            width=0.4, \n",
    "            showfliers=False,\n",
    "            boxprops={'edgecolor': '#376A3E', 'facecolor': '#376A3E', 'alpha': 0.6},\n",
    "            medianprops={'color': '#376A3E', 'linewidth': 2},\n",
    "            whiskerprops={'color': '#376A3E', 'linewidth': 1.5},\n",
    "            capprops={'color': '#376A3E', 'linewidth': 1.5},\n",
    "            ax=ax)\n",
    "\n",
    "# Format y-axis with commas\n",
    "ax.yaxis.set_major_formatter(mticker.FuncFormatter(lambda x, _: f'{x:,.0f}'))\n",
    "\n",
    "# Adjust titles and labels\n",
    "plt.title(\"Comparison of Implementation Cost by Status\", fontsize=16)\n",
    "plt.xlabel(\"Status\", fontsize=14)\n",
    "plt.ylabel(\"Implementation Cost, US Dollars (2024 Adjusted)\", fontsize=14)\n",
    "plt.xticks(fontsize=14)\n",
    "plt.yticks(fontsize=14)\n",
    "\n",
    "# Save the plot\n",
    "plt.tight_layout()\n",
    "plt.savefig(absolute_path_vis/'impcost_boxplot_aggregate.png', format='png')\n",
    "plt.show()"
   ]
  },
  {
   "cell_type": "markdown",
   "metadata": {},
   "source": [
    "## Payback Period Distribution Boxplot"
   ]
  },
  {
   "cell_type": "code",
   "execution_count": null,
   "metadata": {},
   "outputs": [],
   "source": [
    "import seaborn as sns\n",
    "import matplotlib.pyplot as plt\n",
    "import matplotlib.ticker as mticker\n",
    "import pandas as pd\n",
    "import numpy as np\n",
    "\n",
    "sns.set_theme(style=\"white\")\n",
    "plt.figure(figsize=(8, 6))\n",
    "\n",
    "# Drop NA values from payback column\n",
    "mockup_ppi_df_clean = mockup_ppi_df.dropna(subset=[' payback '])\n",
    "\n",
    "# Filter data\n",
    "not_implemented = mockup_ppi_df_clean[mockup_ppi_df_clean[\"impstatus\"] == \"N\"]\n",
    "implemented = mockup_ppi_df_clean[mockup_ppi_df_clean[\"impstatus\"] == \"I\"]\n",
    "\n",
    "# Create boxplots separately\n",
    "ax = sns.boxplot(data=not_implemented, \n",
    "                 x=[\"Not Implemented\"]*len(not_implemented),\n",
    "                 y=\" payback \", \n",
    "                 width=0.4, \n",
    "                 showfliers=False,\n",
    "                 boxprops={'edgecolor': '#C44E52', 'facecolor': 'r', 'alpha': 0.6},\n",
    "                 medianprops={'color': '#C44E52', 'linewidth': 2},\n",
    "                 whiskerprops={'color': '#C44E52', 'linewidth': 1.5},\n",
    "                 capprops={'color': '#C44E52', 'linewidth': 1.5})\n",
    "\n",
    "sns.boxplot(data=implemented, \n",
    "            x=[\"Implemented\"]*len(implemented),\n",
    "            y=\" payback \", \n",
    "            width=0.4, \n",
    "            showfliers=False,\n",
    "            boxprops={'edgecolor': '#376A3E', 'facecolor': '#376A3E', 'alpha': 0.6},\n",
    "            medianprops={'color': '#376A3E', 'linewidth': 2},\n",
    "            whiskerprops={'color': '#376A3E', 'linewidth': 1.5},\n",
    "            capprops={'color': '#376A3E', 'linewidth': 1.5},\n",
    "            ax=ax)\n",
    "\n",
    "# Format y-axis with 2 decimal places\n",
    "def format_payback(x, pos):\n",
    "    return f'{x:.2f}' if x < 10 else f'{x:.1f}'\n",
    "\n",
    "ax.yaxis.set_major_formatter(mticker.FuncFormatter(format_payback))\n",
    "\n",
    "# Adjust titles and labels\n",
    "plt.title(\"Payback Period Distribution by Status\", fontsize=16)\n",
    "plt.xlabel(\"Status\", fontsize=14)\n",
    "plt.ylabel(\"Payback Period, Years\", fontsize=14)\n",
    "plt.xticks(fontsize=14)\n",
    "plt.yticks(fontsize=14)\n",
    "\n",
    "# Save the plot\n",
    "plt.tight_layout()\n",
    "plt.savefig(absolute_path_vis/'payback_boxplot_aggregate.png', format='png')\n",
    "plt.show()"
   ]
  }
 ],
 "metadata": {
  "kernelspec": {
   "display_name": "eds220-env",
   "language": "python",
   "name": "python3"
  },
  "language_info": {
   "codemirror_mode": {
    "name": "ipython",
    "version": 3
   },
   "file_extension": ".py",
   "mimetype": "text/x-python",
   "name": "python",
   "nbconvert_exporter": "python",
   "pygments_lexer": "ipython3",
   "version": "3.11.4"
  }
 },
 "nbformat": 4,
 "nbformat_minor": 2
}
