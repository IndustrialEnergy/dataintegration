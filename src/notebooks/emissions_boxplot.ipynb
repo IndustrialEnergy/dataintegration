{
 "cells": [
  {
   "cell_type": "markdown",
   "metadata": {},
   "source": [
    "# Create a boxplot of avoided fuel emissions distribution \n",
    "\n",
    "Attribute: 'emissions_avoided'\n",
    "\n",
    "Filters:\n",
    "* Sector = Food Manufacturing (NAICS code = 311*)\n",
    "* Period = 2014 - 2024 (last 10 years)\n",
    "* Implemented vs Not Implemented\n",
    "* ARCs = 2.1224 (Replace Boiler)\n",
    "* State = AZ, CA\n",
    "    * Question: do we want to offer a comparative boxplots? or only aggregate?"
   ]
  },
  {
   "cell_type": "markdown",
   "metadata": {},
   "source": [
    "### Notebook generates the following boxplot:"
   ]
  },
  {
   "cell_type": "code",
   "execution_count": null,
   "metadata": {},
   "outputs": [],
   "source": [
    "from IPython.display import Image\n",
    "\n",
    "image_path = '../assets/emissions_avoided_facetgrid.png'\n",
    "\n",
    "# Display the image\n",
    "Image(image_path)"
   ]
  },
  {
   "cell_type": "markdown",
   "metadata": {},
   "source": [
    "# Data Preparation"
   ]
  },
  {
   "cell_type": "code",
   "execution_count": null,
   "metadata": {},
   "outputs": [],
   "source": [
    "# Import libraries\n",
    "import pandas as pd\n",
    "from pathlib import Path\n",
    "import seaborn as sns\n",
    "import matplotlib.pyplot as plt\n",
    "import matplotlib.ticker as mticker\n",
    "import numpy as np\n",
    "import janitor\n",
    "from janitor import clean_names\n"
   ]
  },
  {
   "cell_type": "code",
   "execution_count": null,
   "metadata": {},
   "outputs": [],
   "source": [
    "# Import datasets\n",
    "\n",
    "# ------- define paths -------\n",
    "relative_path = Path('../data/intermediate_data/') # define relative path\n",
    "absolute_path = relative_path.resolve() # get absolute path\n",
    "\n",
    "\n",
    "# ------- import data -------\n",
    "assess_df = pd.read_csv(absolute_path/'iac_assess_tidy.csv') # import IAC assess dataset\n",
    "ec_emissions_df = pd.read_csv(absolute_path/'emissions_tidy.csv') # import emissions dataset\n",
    "ec_generation_df = pd.read_csv(absolute_path/'generation.csv') # import electricity generation dataset\n",
    "recc_integrated_ppi_df = pd.read_csv(absolute_path/'recc_integrated_ppi.csv') # import an integrated recc dataset with adjusted impcost\n",
    "fuel_emission_factors_df = pd.read_excel(absolute_path/'emission_factors_tidy.xlsx', sheet_name='Sheet1') # import fuel emission factors"
   ]
  },
  {
   "cell_type": "code",
   "execution_count": null,
   "metadata": {},
   "outputs": [],
   "source": [
    "ec_emissions_df"
   ]
  },
  {
   "cell_type": "code",
   "execution_count": null,
   "metadata": {},
   "outputs": [],
   "source": [
    "fuel_emission_factors_df"
   ]
  },
  {
   "cell_type": "code",
   "execution_count": null,
   "metadata": {},
   "outputs": [],
   "source": [
    "assess_df = assess_df.clean_names()"
   ]
  },
  {
   "cell_type": "code",
   "execution_count": null,
   "metadata": {},
   "outputs": [],
   "source": [
    "recc_integrated_ppi_df = recc_integrated_ppi_df.dropna(subset=['sourccode', 'conserved','sourconsv','saved'], how='all')\n",
    "recc_integrated_ppi_df[recc_integrated_ppi_df['superid']=='AM043901']"
   ]
  },
  {
   "cell_type": "code",
   "execution_count": null,
   "metadata": {},
   "outputs": [],
   "source": [
    "# Add Sector and State attributes to recc_integrated_ppi_df from assess_df\n",
    "integrated_ppi_df = pd.merge(recc_integrated_ppi_df, assess_df[['state','naics','id']],\n",
    "                                  on='id',\n",
    "                                  how='left')\n",
    "\n",
    "integrated_ppi_df.drop_duplicates(inplace = True)"
   ]
  },
  {
   "cell_type": "code",
   "execution_count": null,
   "metadata": {},
   "outputs": [],
   "source": [
    "# check unique power source codes \n",
    "integrated_ppi_df['sourccode'].unique()\n"
   ]
  },
  {
   "cell_type": "code",
   "execution_count": null,
   "metadata": {},
   "outputs": [],
   "source": [
    "integrated_ppi_df[integrated_ppi_df['superid']=='WV061012']"
   ]
  },
  {
   "cell_type": "markdown",
   "metadata": {},
   "source": [
    "#### Merge Fuel Emission Factors into the integrated recc table"
   ]
  },
  {
   "cell_type": "code",
   "execution_count": null,
   "metadata": {},
   "outputs": [],
   "source": [
    "# add fuel emission factors to the integrated recc df\n",
    "integrated_df = pd.merge(integrated_ppi_df, fuel_emission_factors_df[['sourccode','emission_type','emission_factor','emission_factor_units']],\n",
    "                                  on='sourccode',\n",
    "                                  how='left')"
   ]
  },
  {
   "cell_type": "code",
   "execution_count": null,
   "metadata": {},
   "outputs": [],
   "source": [
    "integrated_df[integrated_df['superid'].isin(['WV061012', 'AM057403'])]"
   ]
  },
  {
   "cell_type": "markdown",
   "metadata": {},
   "source": [
    "#### Calculate fuel emission factors"
   ]
  },
  {
   "cell_type": "code",
   "execution_count": null,
   "metadata": {},
   "outputs": [],
   "source": [
    "# Calculate fuel emissions avoided\n",
    "integrated_df['emissions_avoided'] = integrated_df['emission_factor'] * integrated_df['conserved']"
   ]
  },
  {
   "cell_type": "code",
   "execution_count": null,
   "metadata": {},
   "outputs": [],
   "source": [
    "integrated_df[integrated_df['superid'].isin(['WV061012', 'AM057403'])]"
   ]
  },
  {
   "cell_type": "markdown",
   "metadata": {},
   "source": [
    "# Merge electricity emissions into an integrated recc table"
   ]
  },
  {
   "cell_type": "code",
   "execution_count": null,
   "metadata": {},
   "outputs": [],
   "source": [
    "ec_emissions_df = ec_emissions_df[(ec_emissions_df['producer_type']=='Total Electric Power Industry')& # units = metric ton\n",
    "                                  (ec_emissions_df['energy_source']=='All Sources')]\n",
    "\n",
    "ec_generation_df = ec_generation_df[(ec_generation_df['type_of_producer']=='Total Electric Power Industry')&\n",
    "                                  (ec_generation_df['energy_source']=='Total')]"
   ]
  },
  {
   "cell_type": "code",
   "execution_count": null,
   "metadata": {},
   "outputs": [],
   "source": [
    "ec_emissions_df"
   ]
  },
  {
   "cell_type": "code",
   "execution_count": null,
   "metadata": {},
   "outputs": [],
   "source": [
    "# calculate emission factors\n",
    "# Total Emissions/Total Electricity Generated\n",
    "ec_emission_factors_df = pd.merge(ec_generation_df,ec_emissions_df[['year','state','emission_type','amount']])\n",
    "ec_emission_factors_df['emission_factor'] = ec_emission_factors_df['amount'] / ec_emission_factors_df['generation_megawatthours_']\n",
    "\n",
    "# add column emission_factor_units\n",
    "ec_emission_factors_df['emission_factor_units'] = 'kg/kWh'\n",
    "ec_emission_factors_df['sourccode'] = 'EC'"
   ]
  },
  {
   "cell_type": "code",
   "execution_count": null,
   "metadata": {},
   "outputs": [],
   "source": [
    "ec_emission_factors_df"
   ]
  },
  {
   "cell_type": "code",
   "execution_count": null,
   "metadata": {},
   "outputs": [],
   "source": [
    "integrated_df.columns"
   ]
  },
  {
   "cell_type": "code",
   "execution_count": null,
   "metadata": {},
   "outputs": [],
   "source": [
    "# combine ec_emission_factors_df with the integrated recc table\n",
    "integrated_df = pd.merge(integrated_df, ec_emission_factors_df[['state','year','emission_type','emission_factor','emission_factor_units','sourccode']],\n",
    "                         left_on=['fy','state','sourccode'],\n",
    "                         right_on=['year','state','sourccode'],\n",
    "                         how='left')\n",
    "\n",
    "# merge overlapping columns\n",
    "integrated_df['emission_type'] = integrated_df['emission_type_x'].combine_first(integrated_df['emission_type_y'])\n",
    "integrated_df['emission_factor_units'] = integrated_df['emission_factor_units_x'].combine_first(integrated_df['emission_factor_units_y'])\n",
    "integrated_df['emission_factor'] = integrated_df['emission_factor_x'].combine_first(integrated_df['emission_factor_y'])\n",
    "\n",
    "# drop the old duplicate columns\n",
    "integrated_df.drop(columns=['emission_type_x', 'emission_type_y', 'emission_factor_units_x', 'emission_factor_units_y', 'year','emission_factor_x','emission_factor_y'], \n",
    "                   inplace=True)\n"
   ]
  },
  {
   "cell_type": "code",
   "execution_count": null,
   "metadata": {},
   "outputs": [],
   "source": [
    "integrated_df[integrated_df['superid'].isin(['WV061012', 'AM057403'])]"
   ]
  },
  {
   "cell_type": "code",
   "execution_count": null,
   "metadata": {},
   "outputs": [],
   "source": [
    "integrated_df.loc[integrated_df['sourccode'] == 'EC', 'emissions_avoided'] = (\n",
    "    integrated_df['emission_factor'] * integrated_df['conserved']\n",
    ")\n",
    "integrated_df.loc[integrated_df['sourccode'] == 'EC', 'emissions_avoided'] = (\n",
    "    integrated_df['emission_factor'] * integrated_df['conserved']\n",
    ")\n"
   ]
  },
  {
   "cell_type": "code",
   "execution_count": null,
   "metadata": {},
   "outputs": [],
   "source": [
    "integrated_df[integrated_df['id'].isin(['SF0532', 'OR0712', 'MI0415','IC0115'])]"
   ]
  },
  {
   "cell_type": "code",
   "execution_count": null,
   "metadata": {},
   "outputs": [],
   "source": [
    "integrated_df[integrated_df['superid'].isin(['WV061012', 'AM057403','MI041503','SF053206','SF053207','MI041503','IC011501'])]"
   ]
  },
  {
   "cell_type": "markdown",
   "metadata": {},
   "source": [
    "### Set Filters"
   ]
  },
  {
   "cell_type": "code",
   "execution_count": null,
   "metadata": {},
   "outputs": [],
   "source": [
    "# get arcs2 for sector = 311 (food production)\n",
    "recc_integrated_ppi_311_df = integrated_ppi_df[integrated_ppi_df['naics'].astype(str).str.startswith('311')]\n",
    "recc_integrated_ppi_311_df = integrated_ppi_df[integrated_ppi_df['arc2'].astype(str).str.startswith('2.')]\n",
    "\n",
    "recc_integrated_ppi_311_df[recc_integrated_ppi_311_df['superid']=='AM043901']\n",
    "recc_integrated_ppi_311_df[recc_integrated_ppi_311_df['id']=='AM0439']\n",
    "\n",
    "recc_integrated_ppi_311_df['arc2'].unique()[:15]"
   ]
  },
  {
   "cell_type": "code",
   "execution_count": null,
   "metadata": {},
   "outputs": [],
   "source": [
    "# set filters\n",
    "arc2_filter = [2.1224]\n",
    "sector_filter = '311'\n",
    "period_filter_from = 2010\n",
    "period_filter_to = 2024"
   ]
  },
  {
   "cell_type": "code",
   "execution_count": null,
   "metadata": {},
   "outputs": [],
   "source": [
    "filtered_df = integrated_df[\n",
    "    (integrated_df['naics'].astype(str).str.startswith(sector_filter)) &\n",
    "    (integrated_df['arc2'].isin(arc2_filter)) &\n",
    "    (integrated_df['fy'] >= period_filter_from) &\n",
    "    (integrated_df['fy'] <= period_filter_to) &\n",
    "    (integrated_df['state'].isin(['AZ','CA']))&\n",
    "    (integrated_df['source_rank']=='PSOURCCODE')\t\n",
    "]\n",
    "\n",
    "filtered_EC_df = integrated_df[\n",
    "    #(integrated_df['naics'].astype(str).str.startswith(sector_filter)) &\n",
    "    (integrated_df['arc2'].isin(arc2_filter)) &\n",
    "    #(integrated_df['fy'] >= period_filter_from) &\n",
    "    #(integrated_df['fy'] <= period_filter_to) &\n",
    "    #(integrated_df['state'].isin(['AZ','CA']))&\n",
    "    (integrated_df['source_rank']=='PSOURCCODE') &\n",
    "    (integrated_df['emission_factor_units']=='kg/kWh')\t\n",
    "]\n",
    "\n",
    "filtered_other_fuels_df = integrated_df[\n",
    "    (integrated_df['naics'].astype(str).str.startswith(sector_filter)) &\n",
    "    (integrated_df['arc2'].isin(arc2_filter)) &\n",
    "    (integrated_df['fy'] >= period_filter_from) &\n",
    "    (integrated_df['fy'] <= period_filter_to) &\n",
    "    #(integrated_df['state'].isin(['AZ','CA']))&\n",
    "    (integrated_df['source_rank']=='PSOURCCODE') &\n",
    "    (integrated_df['emission_factor_units']=='kg/MMBtu') \t\n",
    "]\n",
    "\n",
    "filtered_CO2_df = integrated_df[\n",
    "    (integrated_df['naics'].astype(str).str.startswith(sector_filter)) &\n",
    "    (integrated_df['arc2'].isin(arc2_filter)) &\n",
    "    (integrated_df['fy'] >= period_filter_from) &\n",
    "    (integrated_df['fy'] <= period_filter_to) &\n",
    "    (integrated_df['emission_type'].isin(['CO2']))&\n",
    "    (integrated_df['state'].isin(['AZ','CA']))&\n",
    "    (integrated_df['source_rank']=='PSOURCCODE')\n",
    "]\n",
    "\n",
    "filtered_SO2_df = integrated_df[\n",
    "    (integrated_df['naics'].astype(str).str.startswith(sector_filter)) &\n",
    "    (integrated_df['arc2'].isin(arc2_filter)) &\n",
    "    (integrated_df['fy'] >= period_filter_from) &\n",
    "    (integrated_df['fy'] <= period_filter_to) &\n",
    "    (integrated_df['emission_type'].isin(['SO2']))&\n",
    "    (integrated_df['state'].isin(['AZ','CA']))&\n",
    "    (integrated_df['source_rank']=='PSOURCCODE')\n",
    "]\n",
    "\n",
    "filtered_NOx_df = integrated_df[\n",
    "    (integrated_df['naics'].astype(str).str.startswith(sector_filter)) &\n",
    "    (integrated_df['arc2'].isin(arc2_filter)) &\n",
    "    (integrated_df['fy'] >= period_filter_from) &\n",
    "    (integrated_df['fy'] <= period_filter_to) &\n",
    "    (integrated_df['emission_type'].isin(['NOx']))&\n",
    "    (integrated_df['state'].isin(['AZ','CA']))&\n",
    "    (integrated_df['source_rank']=='PSOURCCODE')\n",
    "]"
   ]
  },
  {
   "cell_type": "code",
   "execution_count": null,
   "metadata": {},
   "outputs": [],
   "source": [
    "filtered_df"
   ]
  },
  {
   "cell_type": "code",
   "execution_count": null,
   "metadata": {},
   "outputs": [],
   "source": [
    "filtered_CO2_df.columns"
   ]
  },
  {
   "cell_type": "code",
   "execution_count": null,
   "metadata": {},
   "outputs": [],
   "source": [
    "# test that filters values are correct\n",
    "print(\"Unique values in arc2:\", filtered_CO2_df['arc2'].unique())\n",
    "print(\"Unique values in arc2:\", filtered_CO2_df['fy'].unique())\n",
    "print(len(filtered_CO2_df['arc2'].unique()))\n",
    "\n",
    "filtered_CO2_df"
   ]
  },
  {
   "cell_type": "markdown",
   "metadata": {},
   "source": [
    "Managing Outliers for Better Visualization \n",
    "Method: set showfliers=False in the sns.boxplot. This allows keeping all data in a dataframe while hiding the outliers on a chart.\n",
    "Seaborn uses Interquartile Range (IQR) Rule to determine outliers:\n",
    "\n",
    "Outlier Calculation Using IQR:\n",
    "\n",
    "First Quartile (Q1) = 25th percentile\n",
    "Third Quartile (Q3) = 75th percentile\n",
    "Interquartile Range (IQR) = Q3 - Q1\n",
    "Outliers are defined as any values:\n",
    "Below: Q1 - 1.5 × IQR\n",
    "Above: Q3 + 1.5 × IQR"
   ]
  },
  {
   "cell_type": "code",
   "execution_count": null,
   "metadata": {},
   "outputs": [],
   "source": [
    "Q1 = filtered_CO2_df[\"emissions_avoided\"].quantile(0.25)\n",
    "Q3 = filtered_CO2_df[\"emissions_avoided\"].quantile(0.75)\n",
    "IQR = Q3 - Q1"
   ]
  },
  {
   "cell_type": "code",
   "execution_count": null,
   "metadata": {},
   "outputs": [],
   "source": [
    "Q1"
   ]
  },
  {
   "cell_type": "code",
   "execution_count": null,
   "metadata": {},
   "outputs": [],
   "source": [
    "# calculate the outliers\n",
    "\n",
    "# Compute Q1, Q3, and IQR\n",
    "Q1 = filtered_df[\"emissions_avoided\"].quantile(0.25)\n",
    "Q3 = filtered_df[\"emissions_avoided\"].quantile(0.75)\n",
    "IQR = Q3 - Q1\n",
    "\n",
    "# Define outlier thresholds\n",
    "lower_bound = Q1 - 1.5 * IQR\n",
    "upper_bound = Q3 + 1.5 * IQR\n",
    "\n",
    "# Identify outliers\n",
    "outliers = filtered_df[(filtered_df[\"emissions_avoided\"] < lower_bound) | (filtered_df[\"emissions_avoided\"] > upper_bound)]\n",
    "\n",
    "# Display outliers\n",
    "print(outliers[[\"impstatus\", \"emissions_avoided\"]])"
   ]
  },
  {
   "cell_type": "code",
   "execution_count": null,
   "metadata": {},
   "outputs": [],
   "source": [
    "# Define a path to save visualizations\n",
    "\n",
    "# Define relative path\n",
    "relative_path_vis = Path('../assets/')\n",
    "absolute_path_vis = relative_path_vis.resolve() # get absolute path"
   ]
  },
  {
   "cell_type": "code",
   "execution_count": null,
   "metadata": {},
   "outputs": [],
   "source": [
    "sns.set_theme(style=\"white\")\n",
    "\n",
    "# Define color palette\n",
    "palette = {\"N\": \"salmon\", \"I\": 'lightgreen'}\n",
    "\n",
    "# Create the boxplot\n",
    "plt.figure(figsize=(8, 6))\n",
    "ax = sns.boxplot(data=filtered_CO2_df, x=\"impstatus\", y=\"emissions_avoided\", \n",
    "                 width=0.4, palette=palette, \n",
    "                 showfliers=False, \n",
    "                 medianprops={'color': 'black', 'linewidth': 1},\n",
    "                 hue='impstatus')\n",
    "\n",
    "# Format y-axis with commas\n",
    "ax.yaxis.set_major_formatter(mticker.FuncFormatter(lambda x, _: f'{x:,.0f}'))  # Comma formatting\n",
    "\n",
    "# Adjust titles and labels\n",
    "plt.xlabel(\"Status\", fontsize=16)\n",
    "plt.ylabel(\"Emissions Avoided (kg)\", fontsize=16)\n",
    "plt.xticks(ticks=[0, 1], labels=[\"Not Implemented\", \"Implemented\"], fontsize=14)\n",
    "plt.yticks(fontsize=14)\n",
    "#plt.title(\"CO2 Emissions Avoided by Implementation Status\", fontsize=18)\n",
    "\n",
    "# Customize legend\n",
    "#handles, labels = ax.get_legend_handles_labels()\n",
    "#plt.legend(handles[:2], [\"Not Implemented\", \"Implemented\"], fontsize=14)\n",
    "\n",
    "# Save the plot\n",
    "plt.savefig(absolute_path_vis / \"emissions_avoided_boxplot.png\", format='png')\n",
    "\n",
    "plt.show()\n"
   ]
  },
  {
   "cell_type": "code",
   "execution_count": null,
   "metadata": {},
   "outputs": [],
   "source": [
    "sns.set_theme(style=\"white\")\n",
    "plt.figure(figsize=(8, 6))\n",
    "\n",
    "# Filter data\n",
    "not_implemented = filtered_CO2_df[filtered_CO2_df[\"impstatus\"] == \"N\"]\n",
    "implemented = filtered_CO2_df[filtered_CO2_df[\"impstatus\"] == \"I\"]\n",
    "\n",
    "# Create boxplots separately with different properties\n",
    "ax = sns.boxplot(data=not_implemented, x=[\"Not Implemented\"]*len(not_implemented), \n",
    "                y=\"emissions_avoided\", width=0.4, showfliers=False,\n",
    "                boxprops={'edgecolor': '#C44E52', 'facecolor': 'r', 'alpha': 0.6},\n",
    "                medianprops={'color': '#C44E52', 'linewidth': 2},\n",
    "                whiskerprops={'color': '#C44E52', 'linewidth': 1.5},\n",
    "                capprops={'color': '#C44E52', 'linewidth': 1.5})\n",
    "\n",
    "sns.boxplot(data=implemented, x=[\"Implemented\"]*len(implemented), \n",
    "            y=\"emissions_avoided\", width=0.4, showfliers=False,\n",
    "            boxprops={'edgecolor': '#376A3E', 'facecolor': '#376A3E', 'alpha': 0.6},\n",
    "            medianprops={'color': '#376A3E', 'linewidth': 2},\n",
    "            whiskerprops={'color': '#376A3E', 'linewidth': 1.5},\n",
    "            capprops={'color': '#376A3E', 'linewidth': 1.5},\n",
    "            ax=ax)\n",
    "\n",
    "# Format y-axis with commas\n",
    "ax.yaxis.set_major_formatter(mticker.FuncFormatter(lambda x, _: f'{x:,.0f}'))\n",
    "\n",
    "# Adjust titles and labels\n",
    "plt.title('CO2 Reduction Comparison By Implementation Status', \n",
    "          fontsize=18, \n",
    "          pad=20)\n",
    "plt.xlabel(\"Status\", fontsize=16)\n",
    "plt.ylabel(\"Emissions Avoided (kg)\", fontsize=16)\n",
    "plt.xticks(fontsize=14)\n",
    "plt.yticks(fontsize=14)\n",
    "\n",
    "plt.savefig(absolute_path_vis / \"emissions_avoided_boxplot.png\", format='png')\n",
    "plt.show()"
   ]
  },
  {
   "cell_type": "code",
   "execution_count": null,
   "metadata": {},
   "outputs": [],
   "source": [
    "sns.set_theme(style=\"white\")\n",
    "plt.figure(figsize=(8, 6))\n",
    "\n",
    "# Filter data\n",
    "not_implemented = filtered_SO2_df[filtered_SO2_df[\"impstatus\"] == \"N\"]\n",
    "implemented = filtered_SO2_df[filtered_SO2_df[\"impstatus\"] == \"I\"]\n",
    "\n",
    "# Create boxplots separately with different properties\n",
    "ax = sns.boxplot(data=not_implemented, x=[\"Not Implemented\"]*len(not_implemented), \n",
    "                y=\"emissions_avoided\", width=0.4, showfliers=False,\n",
    "                boxprops={'edgecolor': '#C44E52', 'facecolor': 'r', 'alpha': 0.6},\n",
    "                medianprops={'color': '#C44E52', 'linewidth': 2},\n",
    "                whiskerprops={'color': '#C44E52', 'linewidth': 1.5},\n",
    "                capprops={'color': '#C44E52', 'linewidth': 1.5})\n",
    "\n",
    "sns.boxplot(data=implemented, x=[\"Implemented\"]*len(implemented), \n",
    "            y=\"emissions_avoided\", width=0.4, showfliers=False,\n",
    "            boxprops={'edgecolor': '#376A3E', 'facecolor': '#376A3E', 'alpha': 0.6},\n",
    "            medianprops={'color': '#376A3E', 'linewidth': 2},\n",
    "            whiskerprops={'color': '#376A3E', 'linewidth': 1.5},\n",
    "            capprops={'color': '#376A3E', 'linewidth': 1.5},\n",
    "            ax=ax)\n",
    "\n",
    "# Format y-axis with commas\n",
    "ax.yaxis.set_major_formatter(mticker.FuncFormatter(lambda x, _: f'{x:,.001f}'))\n",
    "\n",
    "# Adjust titles and labels\n",
    "plt.title('SO2 Reduction Comparison By Implementation Status', \n",
    "          fontsize=18, \n",
    "          pad=20)\n",
    "plt.xlabel(\"Status\", fontsize=16)\n",
    "plt.ylabel(\"Emissions Avoided (kg)\", fontsize=16)\n",
    "plt.xticks(fontsize=14)\n",
    "plt.yticks(fontsize=14)\n",
    "\n",
    "plt.savefig(absolute_path_vis / \"emissions_avoided_boxplot.png\", format='png')\n",
    "plt.show()"
   ]
  },
  {
   "cell_type": "code",
   "execution_count": null,
   "metadata": {},
   "outputs": [],
   "source": [
    "sns.set_theme(style=\"white\")\n",
    "plt.figure(figsize=(8, 6))\n",
    "\n",
    "# Filter data\n",
    "not_implemented = filtered_NOx_df[filtered_NOx_df[\"impstatus\"] == \"N\"]\n",
    "implemented = filtered_NOx_df[filtered_NOx_df[\"impstatus\"] == \"I\"]\n",
    "\n",
    "# Create boxplots separately with different properties\n",
    "ax = sns.boxplot(data=not_implemented, x=[\"Not Implemented\"]*len(not_implemented), \n",
    "                y=\"emissions_avoided\", width=0.4, showfliers=False,\n",
    "                boxprops={'edgecolor': '#C44E52', 'facecolor': 'r', 'alpha': 0.6},\n",
    "                medianprops={'color': '#C44E52', 'linewidth': 2},\n",
    "                whiskerprops={'color': '#C44E52', 'linewidth': 1.5},\n",
    "                capprops={'color': '#C44E52', 'linewidth': 1.5})\n",
    "\n",
    "sns.boxplot(data=implemented, x=[\"Implemented\"]*len(implemented), \n",
    "            y=\"emissions_avoided\", width=0.4, showfliers=False,\n",
    "            boxprops={'edgecolor': '#376A3E', 'facecolor': '#376A3E', 'alpha': 0.6},\n",
    "            medianprops={'color': '#376A3E', 'linewidth': 2},\n",
    "            whiskerprops={'color': '#376A3E', 'linewidth': 1.5},\n",
    "            capprops={'color': '#376A3E', 'linewidth': 1.5},\n",
    "            ax=ax)\n",
    "\n",
    "# Format y-axis with commas\n",
    "ax.yaxis.set_major_formatter(mticker.FuncFormatter(lambda x, _: f'{x:,.0f}'))\n",
    "\n",
    "# Adjust titles and labels\n",
    "plt.title('NOx Reduction Comparison By Implementation Status', \n",
    "          fontsize=18, \n",
    "          pad=20)\n",
    "plt.xlabel(\"Status\", fontsize=16)\n",
    "plt.ylabel(\"Emissions Avoided (kg)\", fontsize=16)\n",
    "plt.xticks(fontsize=14)\n",
    "plt.yticks(fontsize=14)\n",
    "\n",
    "plt.savefig(absolute_path_vis / \"emissions_avoided_boxplot.png\", format='png')\n",
    "plt.show()"
   ]
  },
  {
   "cell_type": "code",
   "execution_count": null,
   "metadata": {},
   "outputs": [],
   "source": [
    "filtered_other_fuels_df"
   ]
  },
  {
   "cell_type": "code",
   "execution_count": null,
   "metadata": {},
   "outputs": [],
   "source": [
    "sns.set_theme(style=\"white\")\n",
    "plt.figure(figsize=(8, 6))\n",
    "\n",
    "# Filter data\n",
    "not_implemented = filtered_other_fuels_df[filtered_other_fuels_df[\"impstatus\"] == \"N\"]\n",
    "implemented = filtered_other_fuels_df[filtered_other_fuels_df[\"impstatus\"] == \"I\"]\n",
    "\n",
    "# Create boxplots separately with different properties\n",
    "ax = sns.boxplot(\n",
    "    data=not_implemented, \n",
    "    #x=[\"Not Implemented\"]*len(not_implemented), \n",
    "    x=\"fuel_type\",\n",
    "    hue=\"impstatus\",\n",
    "    y=\"conserved\", \n",
    "    width=0.4, showfliers=False,\n",
    "    boxprops={'edgecolor': '#C44E52', 'facecolor': 'r', 'alpha': 0.6},\n",
    "    medianprops={'color': '#C44E52', 'linewidth': 2},\n",
    "    whiskerprops={'color': '#C44E52', 'linewidth': 1.5},\n",
    "    capprops={'color': '#C44E52', 'linewidth': 1.5})\n",
    "sns.boxplot(\n",
    "    data=implemented, \n",
    "    #x=[\"Implemented\"]*len(implemented), \n",
    "    x=\"fuel_type\",\n",
    "    hue=\"impstatus\",\n",
    "    y=\"conserved\", \n",
    "    width=0.4, \n",
    "    showfliers=False,\n",
    "    boxprops={'edgecolor': '#376A3E', 'facecolor': '#376A3E', 'alpha': 0.6},\n",
    "    medianprops={'color': '#376A3E', 'linewidth': 2},\n",
    "    whiskerprops={'color': '#376A3E', 'linewidth': 1.5},\n",
    "    capprops={'color': '#376A3E', 'linewidth': 1.5},\n",
    "    ax=ax)\n",
    "\n",
    "# Format y-axis with commas\n",
    "ax.yaxis.set_major_formatter(mticker.FuncFormatter(lambda x, _: f'{x:,.0f}'))\n",
    "\n",
    "# Adjust titles and labels\n",
    "plt.title('Other Fuels Savings Distribution By Implementation Status', \n",
    "          fontsize=18, \n",
    "          pad=20)\n",
    "plt.xlabel(\"Status\", fontsize=16)\n",
    "plt.ylabel(\"Energy Saved (MMBtu)\", fontsize=16)\n",
    "plt.xticks(fontsize=14)\n",
    "plt.yticks(fontsize=14)\n",
    "\n",
    "plt.savefig(absolute_path_vis / \"emissions_avoided_boxplot.png\", format='png')\n",
    "plt.show()"
   ]
  },
  {
   "cell_type": "code",
   "execution_count": null,
   "metadata": {},
   "outputs": [],
   "source": [
    "filtered_EC_df"
   ]
  },
  {
   "cell_type": "code",
   "execution_count": null,
   "metadata": {},
   "outputs": [],
   "source": [
    "sns.set_theme(style=\"white\")\n",
    "plt.figure(figsize=(8, 6))\n",
    "\n",
    "# Filter data\n",
    "not_implemented = filtered_EC_df[filtered_EC_df[\"impstatus\"] == \"N\"]\n",
    "implemented = filtered_EC_df[filtered_EC_df[\"impstatus\"] == \"I\"]\n",
    "\n",
    "# Create boxplots separately with different properties\n",
    "ax = sns.boxplot(data=not_implemented, x=[\"Not Implemented\"]*len(not_implemented), \n",
    "                y=\"conserved\", width=0.4, showfliers=False,\n",
    "                boxprops={'edgecolor': '#C44E52', 'facecolor': 'r', 'alpha': 0.6},\n",
    "                medianprops={'color': '#C44E52', 'linewidth': 2},\n",
    "                whiskerprops={'color': '#C44E52', 'linewidth': 1.5},\n",
    "                capprops={'color': '#C44E52', 'linewidth': 1.5})\n",
    "\n",
    "sns.boxplot(data=implemented, x=[\"Implemented\"]*len(implemented), \n",
    "            y=\"conserved\", width=0.4, showfliers=False,\n",
    "            boxprops={'edgecolor': '#376A3E', 'facecolor': '#376A3E', 'alpha': 0.6},\n",
    "            medianprops={'color': '#376A3E', 'linewidth': 2},\n",
    "            whiskerprops={'color': '#376A3E', 'linewidth': 1.5},\n",
    "            capprops={'color': '#376A3E', 'linewidth': 1.5},\n",
    "            ax=ax)\n",
    "\n",
    "# Format y-axis with commas\n",
    "ax.yaxis.set_major_formatter(mticker.FuncFormatter(lambda x, _: f'{x:,.0f}'))\n",
    "\n",
    "# Adjust titles and labels\n",
    "plt.title('Electricity Savings Distribution By Implementation Status', \n",
    "          fontsize=18, \n",
    "          pad=20)\n",
    "plt.xlabel(\"Status\", fontsize=16)\n",
    "plt.ylabel(\"Energy Saved (kWh)\", fontsize=16)\n",
    "plt.xticks(fontsize=14)\n",
    "plt.yticks(fontsize=14)\n",
    "\n",
    "plt.savefig(absolute_path_vis / \"emissions_avoided_boxplot.png\", format='png')\n",
    "plt.show()"
   ]
  },
  {
   "cell_type": "code",
   "execution_count": null,
   "metadata": {},
   "outputs": [],
   "source": [
    "filtered_df.columns"
   ]
  },
  {
   "cell_type": "code",
   "execution_count": null,
   "metadata": {},
   "outputs": [],
   "source": [
    "# manually update missing PPI\n",
    "filtered_df[]"
   ]
  },
  {
   "cell_type": "code",
   "execution_count": null,
   "metadata": {},
   "outputs": [],
   "source": [
    "concise_html = filtered_df[relevant_columns].to_html(index=False, classes='table table-striped')\n",
    "\n",
    "# Add a simple style override to enforce a light background\n",
    "light_mode_css = \"\"\"\n",
    "<style>\n",
    "    .table {\n",
    "        background-color: white !important;\n",
    "        color: black !important;\n",
    "    }\n",
    "    .table-striped tbody tr:nth-of-type(odd) {\n",
    "        background-color: #f9f9f9 !important;\n",
    "    }\n",
    "</style>\n",
    "\"\"\"\n",
    "\n",
    "# Generate a clean HTML table that can be copied to slides\n",
    "html_table = filtered_df.to_html(index=False, classes='table table-striped')\n",
    "\n",
    "# For a more concise table, select only the most relevant columns\n",
    "# For example:\n",
    "relevant_columns = ['superid', 'arc2', 'naics', 'state', 'fy', 'impstatus', 'impcost',\n",
    "       'ref_year_impcost', 'source_rank', 'sourccode', 'conserved', \n",
    "       'emission_type','emissions_avoided', 'emission_factor', 'emission_factor_units'\n",
    "       \n",
    "       ]\n",
    "concise_html = filtered_df[relevant_columns].to_html(index=False, classes='table table-striped')\n",
    "\n",
    "# Or for an even cleaner format for presentations\n",
    "from IPython.display import HTML\n",
    "HTML(filtered_df[relevant_columns].to_html(index=False, classes='table table-striped'))\n",
    "\n",
    "HTML(filtered_df[relevant_columns].to_html(index=False, classes='table table-striped table-light'))\n",
    "\n",
    "# Combine the CSS and table\n",
    "HTML(light_mode_css + concise_html)"
   ]
  },
  {
   "cell_type": "code",
   "execution_count": null,
   "metadata": {},
   "outputs": [],
   "source": [
    "filtered_df[relevant_columns].to_csv(\"../data/intermediate_data/iac_integrated_mockupv2.csv\", index=False)"
   ]
  }
 ],
 "metadata": {
  "kernelspec": {
   "display_name": "eds220-env",
   "language": "python",
   "name": "python3"
  },
  "language_info": {
   "codemirror_mode": {
    "name": "ipython",
    "version": 3
   },
   "file_extension": ".py",
   "mimetype": "text/x-python",
   "name": "python",
   "nbconvert_exporter": "python",
   "pygments_lexer": "ipython3",
   "version": "3.11.4"
  }
 },
 "nbformat": 4,
 "nbformat_minor": 2
}
