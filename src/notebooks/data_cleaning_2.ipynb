{
 "cells": [
  {
   "cell_type": "markdown",
   "id": "37c11d9f-4a09-4c7b-943a-55547fe039e8",
   "metadata": {},
   "source": [
    "# Further Data Integration\n",
    "\n",
    "Further data integration of `iac_integration.csv` for Industrial Energy dashboard for Industrial Sustainability Analysis Lab - headed by Dr. Eric Masanet.\n",
    "\n",
    "In this notebook we will:\n",
    "- Select relevant years\n",
    "- Integrate NAICS/SIC codes and descriptions\n",
    "- Select for relevant ARC codes\n",
    "- Integrate ARC descriptions\n",
    "\n",
    "The data required for these processes are in the raw_data and final_data google drive folders."
   ]
  },
  {
   "cell_type": "code",
   "execution_count": null,
   "id": "5a7d84db-4d78-463a-bead-db1230207ae0",
   "metadata": {
    "tags": []
   },
   "outputs": [],
   "source": [
    "# Import relevant libraries\n",
    "import numpy as np\n",
    "import pandas as pd\n",
    "from pathlib import Path"
   ]
  },
  {
   "cell_type": "code",
   "execution_count": null,
   "id": "63c823ff-1116-4e77-8019-bee6e25c243b",
   "metadata": {
    "tags": []
   },
   "outputs": [],
   "source": [
    "# Import datasets\n",
    "\n",
    "# ------- define paths -------\n",
    "relative_path = Path('../../data/') # define relative path\n",
    "absolute_path = relative_path.resolve() # get absolute path\n",
    "\n",
    "\n",
    "# ------- import data -------\n",
    "naics = pd.read_csv(absolute_path/'raw_data/NAICS_Codes.csv') # import NAICS dataset\n",
    "naic_sics_xwalk = pd.read_csv(absolute_path/\"raw_data/NAICS_SIC_Xwalk.csv\")\n",
    "arc2 = pd.read_csv(absolute_path/\"raw_data/ARC2.csv\")\n",
    "iac = pd.read_csv(absolute_path/'intermediate_data/iac_integrated.csv') # import Integrated IAC dataset\n"
   ]
  },
  {
   "cell_type": "code",
   "execution_count": null,
   "id": "66cfe554",
   "metadata": {},
   "outputs": [],
   "source": [
    "iac[iac['superid']=='AM007601']"
   ]
  },
  {
   "cell_type": "code",
   "execution_count": null,
   "id": "a76e5302",
   "metadata": {},
   "outputs": [],
   "source": [
    "naic_sics_xwalk[naic_sics_xwalk['Related SIC Code']=='3479']"
   ]
  },
  {
   "cell_type": "code",
   "execution_count": null,
   "id": "4b5a9607-8eac-4b37-81a4-145f09314a7e",
   "metadata": {
    "tags": []
   },
   "outputs": [],
   "source": [
    "# Set all column names to visible\n",
    "pd.set_option('display.max_columns', None)\n",
    "\n",
    "# Explore csv columns\n",
    "iac.head(1)"
   ]
  },
  {
   "cell_type": "markdown",
   "id": "4d47e59d-8a26-4369-8456-e1f53d461746",
   "metadata": {},
   "source": [
    "Looking at the codes within the 'naics' column in the iac df - we notice that the codes are six digits with a '.' at the end. To join the naics df - we must clean this column."
   ]
  },
  {
   "cell_type": "code",
   "execution_count": null,
   "id": "acdf003a-f195-4d1f-bd64-0291bb7d240e",
   "metadata": {
    "tags": []
   },
   "outputs": [],
   "source": [
    "#iac.naics.unique() # Uncomment to view"
   ]
  },
  {
   "cell_type": "code",
   "execution_count": null,
   "id": "b9fe9f02-0049-40f3-9e48-cb9a9da65aae",
   "metadata": {
    "tags": []
   },
   "outputs": [],
   "source": [
    "def clean_naics(value):\n",
    "    if pd.isna(value):\n",
    "        # Return NaN values as is\n",
    "        return value\n",
    "    else:\n",
    "        # Convert to string first to handle the value properly\n",
    "        value_str = str(value)\n",
    "        # Remove decimal point and trailing zeros\n",
    "        if '.' in value_str:\n",
    "            return value_str.split('.')[0]\n",
    "        else:\n",
    "            return value_str"
   ]
  },
  {
   "cell_type": "code",
   "execution_count": null,
   "id": "1c8a6f3d-192c-4e6f-9901-8952957c53e1",
   "metadata": {
    "tags": []
   },
   "outputs": [],
   "source": [
    "iac['naics'] = iac['naics'].apply(clean_naics)"
   ]
  },
  {
   "cell_type": "code",
   "execution_count": null,
   "id": "7ac50d8d",
   "metadata": {},
   "outputs": [],
   "source": [
    "iac[iac['superid']=='AM007601']"
   ]
  },
  {
   "cell_type": "code",
   "execution_count": null,
   "id": "77d0cf33-893d-4940-aeb3-249900ed532e",
   "metadata": {
    "tags": []
   },
   "outputs": [],
   "source": [
    "# Double-check\n",
    "\n",
    "#iac.tail() # Uncomment to view"
   ]
  },
  {
   "cell_type": "code",
   "execution_count": null,
   "id": "f6a55b5f-b51b-41f2-a568-deabc26a17ed",
   "metadata": {
    "tags": []
   },
   "outputs": [],
   "source": [
    "naics.head()"
   ]
  },
  {
   "cell_type": "code",
   "execution_count": null,
   "id": "b7016c72-94c0-483e-b598-a3ad0e54bca5",
   "metadata": {
    "tags": []
   },
   "outputs": [],
   "source": [
    "naics.columns"
   ]
  },
  {
   "cell_type": "code",
   "execution_count": null,
   "id": "fa69eccb-d473-45d7-98dc-51ac38f744f1",
   "metadata": {
    "tags": []
   },
   "outputs": [],
   "source": [
    "naics_clean = naics.drop(['Seq. No.','Unnamed: 4'], axis=1)"
   ]
  },
  {
   "cell_type": "code",
   "execution_count": null,
   "id": "4649fd03-3ee9-4137-858e-20cd1798e699",
   "metadata": {
    "tags": []
   },
   "outputs": [],
   "source": [
    "naics_clean.head()"
   ]
  },
  {
   "cell_type": "code",
   "execution_count": null,
   "id": "2d8fd18c-b4d3-4baf-b31e-a3f27c4102c0",
   "metadata": {
    "tags": []
   },
   "outputs": [],
   "source": [
    "# Create the naics lookup from naics_clean\n",
    "naics_lookup = dict(zip(\n",
    "    naics_clean['2022 NAICS US   Code'].astype(str),\n",
    "    naics_clean['2022 NAICS US Title'] # replaced with title because description is too verbose\n",
    "))\n",
    "\n",
    "# Apply the lookup to iac dd\n",
    "iac['naics'] = iac['naics'].astype(str)\n",
    "iac['naics_description'] = iac['naics'].map(naics_lookup)"
   ]
  },
  {
   "cell_type": "code",
   "execution_count": null,
   "id": "3563d955",
   "metadata": {},
   "outputs": [],
   "source": [
    "naics_clean[naics_clean['2022 NAICS US   Code']=='922110']"
   ]
  },
  {
   "cell_type": "code",
   "execution_count": null,
   "id": "97530006",
   "metadata": {},
   "outputs": [],
   "source": [
    "iac[iac['superid']=='ORC00702']"
   ]
  },
  {
   "cell_type": "code",
   "execution_count": null,
   "id": "d4df6215",
   "metadata": {},
   "outputs": [],
   "source": [
    "# remove trailing “.0” or any decimal from sic values\n",
    "iac['sic'] = iac['sic'].astype(str)\n",
    "iac['sic'] = iac['sic'].str.replace(r'\\.0+$', '', regex=True)\n",
    "\n",
    "# convert reference_year to integer \n",
    "iac['reference_year'] = pd.to_numeric(iac['reference_year'], errors='coerce').astype('Int64')"
   ]
  },
  {
   "cell_type": "code",
   "execution_count": null,
   "id": "87cd8f1b",
   "metadata": {},
   "outputs": [],
   "source": [
    "iac[iac['superid']=='AM007601']"
   ]
  },
  {
   "cell_type": "code",
   "execution_count": null,
   "id": "641da4ba-5459-495a-bb65-b4a5fbcee840",
   "metadata": {
    "tags": []
   },
   "outputs": [],
   "source": [
    "# remove audits that were recorded prior to 1990\n",
    "# Reason: we don't have emissions and PPI data prior to 1990\n",
    "iac = iac[(iac['fy'] > 1989) & (iac['arc2'] < 3)]"
   ]
  },
  {
   "cell_type": "code",
   "execution_count": null,
   "id": "f50c537b",
   "metadata": {},
   "outputs": [],
   "source": [
    "before_sic_update = iac[iac['sic']=='3479'].shape[0]"
   ]
  },
  {
   "cell_type": "code",
   "execution_count": null,
   "id": "3c907d82-3035-47f4-87d7-f604b2c02087",
   "metadata": {
    "tags": []
   },
   "outputs": [],
   "source": [
    "iac.head(3)"
   ]
  },
  {
   "cell_type": "code",
   "execution_count": null,
   "id": "e0839448-f460-4b39-84ed-4f150fa7aaf8",
   "metadata": {
    "tags": []
   },
   "outputs": [],
   "source": [
    "naic_sics_xwalk.head(3)"
   ]
  },
  {
   "cell_type": "code",
   "execution_count": null,
   "id": "17a9bc2a-6c5a-4e69-8676-0dfa76473859",
   "metadata": {
    "tags": []
   },
   "outputs": [],
   "source": [
    "naic_sics_xwalk.columns"
   ]
  },
  {
   "cell_type": "code",
   "execution_count": null,
   "id": "90c2e786-9569-4503-9818-df0550a88aa4",
   "metadata": {
    "tags": []
   },
   "outputs": [],
   "source": [
    "naic_sics_xwalk_clean = naic_sics_xwalk.drop(['Input Seq 1', 'Change to 2017 Code', '2017 NAICS Code', '2017 NAICS Code.1'], axis=1)"
   ]
  },
  {
   "cell_type": "code",
   "execution_count": null,
   "id": "5eef150f",
   "metadata": {},
   "outputs": [],
   "source": [
    "# naic_sics_xwalk_clean[naic_sics_xwalk_clean['Related SIC Code']=='3479']\n",
    "naic_sics_xwalk_clean[naic_sics_xwalk_clean['2022 NAICS Code']==922110]"
   ]
  },
  {
   "cell_type": "code",
   "execution_count": null,
   "id": "06df0b76-2925-4521-8608-5f118c227176",
   "metadata": {
    "tags": []
   },
   "outputs": [],
   "source": [
    "# Create the naics lookup from naic_sics_xwalk_clean\n",
    "naics_title_lookup = dict(zip(\n",
    "    naic_sics_xwalk_clean['2022 NAICS Code'].astype(str),\n",
    "    naic_sics_xwalk_clean['2022 NAICS Title']\n",
    "))\n",
    "\n",
    "sic_code_lookup = dict(zip(\n",
    "    naic_sics_xwalk_clean['2022 NAICS Code'].astype(str),\n",
    "    naic_sics_xwalk_clean['Related SIC Code']\n",
    "))\n",
    "    \n",
    "naics_to_sic_desc_lookup = dict(zip(\n",
    "    naic_sics_xwalk_clean['2022 NAICS Code'].astype(str),\n",
    "    naic_sics_xwalk_clean['Related SIC Code Description']\n",
    "))\n",
    "\n",
    "# to be applied where NAICS values are missing\n",
    "naics_code_lookup = dict(zip(\n",
    "    naic_sics_xwalk_clean['Related SIC Code'],\n",
    "    naic_sics_xwalk_clean['2022 NAICS Code'].astype(str)\n",
    "))\n",
    "\n",
    "# to be applied where NAICS values are missing\n",
    "sic_desc_lookup = dict(zip(\n",
    "    naic_sics_xwalk_clean['Related SIC Code'].astype(str),\n",
    "    naic_sics_xwalk_clean['Related SIC Code Description']\n",
    "))"
   ]
  },
  {
   "cell_type": "markdown",
   "id": "82d93ea5",
   "metadata": {},
   "source": [
    "**Issue**: We cannot lookup NAICS by SIC value directly because SIC to NAICS is many to many relationship.\n",
    "\n",
    "`naic_sics_xwalk_clean[naic_sics_xwalk_clean['Related SIC Code']=='3479']`\n",
    "\n",
    "| 2022 NAICS Code | 2022 NAICS Title                                           | Related SIC Code | Related SIC Code Description          |\n",
    "| --------------- | ---------------------------------------------------------- | ---------------- | ------------------------------------- |\n",
    "| 332812          | Metal Coating, Engraving (except Jewelry and S...)         | 3479             | Metal Coating and Allied Services     |\n",
    "| 339910          | Jewelry and Silverware Manufacturing                       | 3479             | Metal Coating and Allied Services     |\n",
    "| 339910          | Jewelry and Silverware Manufacturing                       | 3479             | Metal Coating and Allied Services     |\n",
    "| 339910          | Jewelry and Silverware Manufacturing                       | 3479             | Metal Coating and Allied Services     |\n",
    "\n",
    "\n",
    "`naic_sics_xwalk_clean[naic_sics_xwalk_clean['2022 NAICS Code'] == 332812]`\n",
    "\n",
    "| 2022 NAICS Code | 2022 NAICS Title                                   | Related SIC Code | Related SIC Code Description     |\n",
    "|-----------------|----------------------------------------------------|------------------|----------------------------------|\n",
    "| 332812          | Metal Coating, Engraving (except Jewelry and S...) | 3479             | Metal Coating and Allied Services|\n",
    "| 332812          | Metal Coating, Engraving (except Jewelry and S...) | 3999             | Manufacturing Industries, Nec    |\n",
    "\n",
    "**Decision**: In order to not update IAC records where NAICS are missing with invalid NAICS category based on SIC code, we will set Sector to SIC description."
   ]
  },
  {
   "cell_type": "code",
   "execution_count": null,
   "id": "f8c0af02-b090-440a-95d8-cb81d1cfdedc",
   "metadata": {
    "tags": []
   },
   "outputs": [],
   "source": [
    "arc2_lookup = dict(zip(\n",
    "    arc2['specific_code'].astype(str),\n",
    "    arc2['specific_description']\n",
    "))"
   ]
  },
  {
   "cell_type": "code",
   "execution_count": null,
   "id": "f696cbbe-3f55-4e82-a6a0-428c0feff29a",
   "metadata": {
    "tags": []
   },
   "outputs": [],
   "source": [
    "# # Apply the lookup to iac dd\n",
    "# iac['naics'] = iac['naics'].astype(str)\n",
    "# iac['naics_description'] = iac['naics'].map(naics_lookup)\n",
    "# # iac['sic'] = iac['naics'].map(sic_code_lookup) - we don't want to override existing SIC values with NA for the records where NAICS are missing\n",
    "# iac['sic_description'] = iac['naics'].map(sic_desc_lookup)"
   ]
  },
  {
   "cell_type": "code",
   "execution_count": null,
   "id": "0b55a86b",
   "metadata": {},
   "outputs": [],
   "source": [
    "# update sic_description only for rows that have non-missing sic \n",
    "sic_exist = iac['sic'].notna() & (iac['sic'].astype(str).str.strip() != '')\n",
    "iac.loc[sic_exist, 'sic_description'] = iac.loc[sic_exist, 'sic'].map(sic_desc_lookup)\n",
    "\n",
    "# update sic_description based on naics code if sic value is missing\n",
    "sic_na = iac['sic'].isna()\n",
    "iac.loc[sic_na, 'sic_description'] = iac.loc[sic_na, 'naics'].map(naics_to_sic_desc_lookup)"
   ]
  },
  {
   "cell_type": "code",
   "execution_count": null,
   "id": "b49a9ee2",
   "metadata": {},
   "outputs": [],
   "source": [
    "# update naics description only for rows that have non-missing naics\n",
    "iac['naics'] = iac['naics'].astype(str)\n",
    "# check for non-missing values and non-empty strings\n",
    "naics_exist = iac['naics'].notna() & (iac['naics'].astype(str).str.strip() != '')\n",
    "iac.loc[naics_exist, 'naics_description'] = iac.loc[naics_exist, 'naics'].map(naics_lookup)\n"
   ]
  },
  {
   "cell_type": "code",
   "execution_count": null,
   "id": "e3442e26",
   "metadata": {},
   "outputs": [],
   "source": [
    "# test update didn't remove or override sic values\n",
    "after_sic_update = iac[iac['sic']=='3479'].shape[0]\n",
    "print(f\"{before_sic_update == after_sic_update }\")"
   ]
  },
  {
   "cell_type": "code",
   "execution_count": null,
   "id": "ce7562d1",
   "metadata": {},
   "outputs": [],
   "source": [
    "# add sector column to the IAC dataset\n",
    "# if NAICS description is not NA, set value to NAICS description, else to SIC description\n",
    "iac['sector'] = iac['naics_description']\n",
    "iac.loc[iac['naics_description'].isna(), 'sector'] = iac['sic_description']"
   ]
  },
  {
   "cell_type": "code",
   "execution_count": null,
   "id": "04225ccd-f9a0-4cc5-9b05-fd8aa4c1922a",
   "metadata": {
    "tags": []
   },
   "outputs": [],
   "source": [
    "iac['arc2'] = iac['arc2'].astype(str)\n",
    "iac['arc_description'] = iac['arc2'].map(arc2_lookup)"
   ]
  },
  {
   "cell_type": "code",
   "execution_count": null,
   "id": "9c38a50c-47bc-4c1a-98ac-f31faae51382",
   "metadata": {
    "tags": []
   },
   "outputs": [],
   "source": [
    "iac.head(10)"
   ]
  },
  {
   "cell_type": "code",
   "execution_count": null,
   "id": "52aaae05",
   "metadata": {},
   "outputs": [],
   "source": [
    "iac.shape"
   ]
  },
  {
   "cell_type": "code",
   "execution_count": null,
   "id": "ffa42e0b",
   "metadata": {},
   "outputs": [],
   "source": [
    "# keep only primary energy source \n",
    "dashboard_df = iac[iac['source_rank'] == 'PSOURCCODE']\n",
    "\n",
    "# remove columns not used in the dashboard viz\n",
    "dashboard_df = dashboard_df.drop(['description','source_rank','source_code','naics_description','sic_description' ,'reference_year','reference_ppi', 'emission_factor_units', 'emission_factor','rebate','incremntal','sales', 'employees','produnits', 'prodlevel', 'prodhours', 'numars','bptool','ar_number', 'appcode','ic_capital', 'ic_other','center'], axis=1)\n",
    "\n",
    "# convert emissions_avoided values to numeric values rounded to 2 decimals\n",
    "dashboard_df['emissions_avoided'] = dashboard_df['emissions_avoided'].astype(float).round(2)"
   ]
  },
  {
   "cell_type": "code",
   "execution_count": null,
   "id": "779b53cc-26a2-4ecc-8d58-9c5aad57fcb1",
   "metadata": {
    "tags": []
   },
   "outputs": [],
   "source": [
    "# Save new 'iac' df to csv for PPI integration\n",
    "iac.to_csv(absolute_path/'processed_data/iac_integrated.csv')\n",
    "dashboard_df.to_csv(absolute_path/'processed_data/iac_integrated_dash.csv', index=False)"
   ]
  }
 ],
 "metadata": {
  "kernelspec": {
   "display_name": "eds220-env",
   "language": "python",
   "name": "python3"
  },
  "language_info": {
   "codemirror_mode": {
    "name": "ipython",
    "version": 3
   },
   "file_extension": ".py",
   "mimetype": "text/x-python",
   "name": "python",
   "nbconvert_exporter": "python",
   "pygments_lexer": "ipython3",
   "version": "3.11.4"
  }
 },
 "nbformat": 4,
 "nbformat_minor": 5
}
